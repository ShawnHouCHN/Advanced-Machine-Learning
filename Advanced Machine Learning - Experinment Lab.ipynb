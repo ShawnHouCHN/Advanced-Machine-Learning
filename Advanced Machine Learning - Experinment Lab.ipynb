{
 "cells": [
  {
   "cell_type": "code",
   "execution_count": 59,
   "metadata": {},
   "outputs": [],
   "source": [
    "from numpy.linalg import norm\n",
    "import numpy as np\n",
    "from scipy import sparse\n",
    "from matplotlib import pyplot as plt\n",
    "from scipy import optimize\n",
    "from scipy.sparse import csr_matrix\n",
    "from scipy.optimize import minimize\n",
    "from sklearn.datasets import load_iris\n",
    "from sklearn.datasets import load_svmlight_file\n",
    "from sklearn.neighbors import KNeighborsClassifier\n",
    "from sklearn.model_selection import cross_val_score\n",
    "from sklearn.metrics.pairwise import euclidean_distances\n",
    "from sklearn.utils.validation import check_is_fitted, check_array, check_X_y, check_random_state\n",
    "from sklearn.model_selection import train_test_split\n",
    "from sklearn.datasets import fetch_mldata\n",
    "from sklearn.model_selection import ParameterGrid,GridSearchCV,StratifiedKFold\n",
    "from sklearn.metrics import confusion_matrix, classification_report\n",
    "from sklearn.decomposition import PCA\n",
    "\n",
    "from LMNN import LargeMarginNearestNeighbor\n",
    "from LMNN_SS import SemiSupervisedLargeMarginNearestNeighbor\n",
    "\n",
    "from matplotlib.ticker import FuncFormatter\n",
    "import matplotlib.pyplot as plt\n",
    "\n",
    "\n",
    "from skimage import data, color\n",
    "from skimage.transform import rescale, resize, downscale_local_mean\n",
    "\n",
    "from pylmnn import lmnn\n",
    "\n",
    "import pandas as pd\n",
    "\n",
    "import cv2\n",
    "\n",
    "import time"
   ]
  },
  {
   "cell_type": "code",
   "execution_count": 51,
   "metadata": {},
   "outputs": [],
   "source": [
    "###Benchmark Grid Search Hyperparameters K, omega1,2, 3 #############\n",
    "lmnn_itr_list=[2,5,10,50,100]\n",
    "ssc_itr_list=[2, 5, 10, 50, 100]\n",
    "\n",
    "lmnn_param_grid = {'max_iter': lmnn_itr_list}\n",
    "ssc_param_grid = {'max_iter': ssc_itr_list}"
   ]
  },
  {
   "cell_type": "code",
   "execution_count": 78,
   "metadata": {},
   "outputs": [],
   "source": [
    "def cross_validate_test(clf, X, y, cv=5):\n",
    "    print (\"###### Cross Validate Data Shape: \", X.shape)\n",
    "    skf = StratifiedKFold(n_splits=cv) \n",
    "    scores_list=[]\n",
    "    for train_index, test_index in skf.split(X, y):\n",
    "        X_train, X_test = X[train_index], X[test_index]\n",
    "        y_train, y_test = y[train_index], y[test_index]\n",
    "        clf.fit(X_train,y_train)\n",
    "        scores_list.append(clf.score(X_test,y_test))\n",
    "    print (\"##### Average Performance: \", np.mean(scores_list))\n",
    "    return scores_list"
   ]
  },
  {
   "cell_type": "markdown",
   "metadata": {},
   "source": [
    "### Test 1 : Find the Best max_itr for USPS (Labeled: 200, Unlabeled: 4000, Test: 2000)\n",
    "***\n",
    "*  **LMNN **"
   ]
  },
  {
   "cell_type": "code",
   "execution_count": 96,
   "metadata": {},
   "outputs": [],
   "source": [
    "def get_USPS_training_data():\n",
    "    data = load_svmlight_file('ml_data/usps/usps')\n",
    "    return data[0], data[1]\n",
    "\n",
    "def get_USPS_testing_data():\n",
    "    data = load_svmlight_file('ml_data/usps/usps.t')\n",
    "    return data[0], data[1]\n",
    "\n",
    "X_train, y_train = get_USPS_training_data()\n",
    "X_test, y_test = get_USPS_testing_data()\n",
    "\n",
    "X_train=np.asarray(X_train.todense())\n",
    "y_train=np.asarray(y_train)\n",
    "\n",
    "X_test=np.asarray(X_test.todense())\n",
    "y_test=np.asarray(y_test)\n",
    "\n",
    "X_all=np.concatenate((X_train, X_test), axis=0)\n",
    "y_all=np.concatenate((y_train, y_test), axis=0)\n",
    "my_model = PCA(n_components=0.95, svd_solver='full')\n",
    "X_all=my_model.fit_transform(X_all)\n"
   ]
  },
  {
   "cell_type": "code",
   "execution_count": 97,
   "metadata": {},
   "outputs": [],
   "source": [
    "X_train, X_test, y_train, y_test = train_test_split(X_all, y_all, test_size=2000, stratify=y_all, random_state=42)\n",
    "X_train_labelled, X_train_rest, y_train_labelled, y_train_rest = train_test_split(X_train, y_train, train_size=200, stratify=y_train, random_state=42)\n",
    "\n",
    "sample_inds=np.random.randint(X_train_rest.shape[0], size=4000)\n",
    "X_train_unlabelled=X_train_rest[sample_inds, :]"
   ]
  },
  {
   "cell_type": "code",
   "execution_count": 99,
   "metadata": {},
   "outputs": [
    {
     "name": "stdout",
     "output_type": "stream",
     "text": [
      "Fitting 5 folds for each of 5 candidates, totalling 25 fits\n",
      "[CV] max_iter=2 ......................................................\n",
      "[CV] max_iter=2 ......................................................\n",
      "[CV] max_iter=2 ......................................................\n",
      "[CV] max_iter=5 ......................................................\n",
      "[CV] max_iter=2 ......................................................\n",
      "[CV] max_iter=2 ......................................................\n",
      "[CV] max_iter=5 ......................................................\n",
      "[CV] max_iter=5 ......................................................\n",
      "[CV] max_iter=5 ......................................................\n",
      "[CV] max_iter=5 ......................................................\n",
      "[CV] max_iter=10 .....................................................\n",
      "[CV] max_iter=10 .....................................................\n",
      "[CV] max_iter=10 .....................................................\n",
      "[CV] max_iter=10 .....................................................\n",
      "[CV] max_iter=10 .....................................................\n",
      "[CV] max_iter=50 .....................................................\n",
      "[CV] max_iter=50 .....................................................\n",
      "[CV] max_iter=50 .....................................................\n",
      "[CV] max_iter=50 .....................................................\n",
      "[CV] max_iter=50 .....................................................\n",
      "[CV] ................. max_iter=2, score=0.790697674419, total=   6.9s\n",
      "[CV] max_iter=100 ....................................................\n",
      "[CV] ................. max_iter=2, score=0.837209302326, total=   7.0s\n",
      "[CV] max_iter=100 ....................................................\n",
      "[CV] ................. max_iter=2, score=0.780487804878, total=   7.2s\n",
      "[CV] max_iter=100 ....................................................\n",
      "[CV] ................. max_iter=2, score=0.861111111111, total=   7.6s\n",
      "[CV] max_iter=100 ....................................................\n"
     ]
    },
    {
     "name": "stderr",
     "output_type": "stream",
     "text": [
      "[Parallel(n_jobs=20)]: Done   4 out of  25 | elapsed:    7.8s remaining:   40.9s\n"
     ]
    },
    {
     "name": "stdout",
     "output_type": "stream",
     "text": [
      "[CV] ................. max_iter=2, score=0.810810810811, total=   8.0s\n",
      "[CV] max_iter=100 ....................................................\n",
      "[CV] ................. max_iter=5, score=0.888888888889, total=   9.2s\n",
      "[CV] ................. max_iter=5, score=0.790697674419, total=   9.8s\n",
      "[CV] ................. max_iter=5, score=0.837209302326, total=  10.4s\n",
      "[CV] ................. max_iter=5, score=0.780487804878, total=  11.2s\n",
      "[CV] ................. max_iter=5, score=0.783783783784, total=  14.6s\n",
      "[CV] ................ max_iter=10, score=0.767441860465, total=  17.9s\n",
      "[CV] ................ max_iter=10, score=0.860465116279, total=  19.1s\n",
      "[CV] ................ max_iter=10, score=0.756097560976, total=  22.7s\n"
     ]
    },
    {
     "name": "stderr",
     "output_type": "stream",
     "text": [
      "[Parallel(n_jobs=20)]: Done  13 out of  25 | elapsed:   22.8s remaining:   21.1s\n"
     ]
    },
    {
     "name": "stdout",
     "output_type": "stream",
     "text": [
      "[CV] ................ max_iter=10, score=0.702702702703, total=  23.6s\n",
      "[CV] ................ max_iter=10, score=0.833333333333, total=  25.2s\n",
      "[CV] ................ max_iter=50, score=0.837209302326, total= 2.1min\n",
      "[CV] ............... max_iter=100, score=0.837209302326, total= 2.1min\n",
      "[CV] ................. max_iter=50, score=0.72972972973, total= 2.3min\n",
      "[CV] ................ max_iter=100, score=0.72972972973, total= 2.3min\n",
      "[CV] ............... max_iter=100, score=0.767441860465, total= 2.4min\n",
      "[CV] ................ max_iter=50, score=0.767441860465, total= 2.7min\n",
      "[CV] ................ max_iter=50, score=0.916666666667, total= 2.9min\n"
     ]
    },
    {
     "name": "stderr",
     "output_type": "stream",
     "text": [
      "[Parallel(n_jobs=20)]: Done  22 out of  25 | elapsed:  2.9min remaining:   24.1s\n"
     ]
    },
    {
     "name": "stdout",
     "output_type": "stream",
     "text": [
      "[CV] ............... max_iter=100, score=0.916666666667, total= 2.8min\n",
      "[CV] ................ max_iter=100, score=0.80487804878, total= 3.1min\n",
      "[CV] ................. max_iter=50, score=0.80487804878, total= 3.2min\n"
     ]
    },
    {
     "name": "stderr",
     "output_type": "stream",
     "text": [
      "[Parallel(n_jobs=20)]: Done  25 out of  25 | elapsed:  3.2min finished\n"
     ]
    },
    {
     "name": "stdout",
     "output_type": "stream",
     "text": [
      "LMNN Best parameters set found on development set:\n",
      "()\n",
      "{'max_iter': 2}\n",
      "()\n",
      "Grid scores on development set:\n",
      "()\n",
      "0.815 (+/-0.059) for {'max_iter': 2}\n",
      "0.815 (+/-0.081) for {'max_iter': 5}\n",
      "0.785 (+/-0.112) for {'max_iter': 10}\n",
      "0.810 (+/-0.123) for {'max_iter': 50}\n",
      "0.810 (+/-0.123) for {'max_iter': 100}\n",
      "()\n",
      "Detailed classification report:\n",
      "()\n",
      "The model is trained on the full development set.\n",
      "The scores are computed on the full evaluation set.\n",
      "()\n",
      "             precision    recall  f1-score   support\n",
      "\n",
      "        1.0       0.90      0.96      0.93       334\n",
      "        2.0       0.94      0.99      0.97       273\n",
      "        3.0       0.86      0.77      0.81       200\n",
      "        4.0       0.73      0.90      0.81       177\n",
      "        5.0       0.83      0.81      0.82       183\n",
      "        6.0       0.84      0.65      0.73       154\n",
      "        7.0       0.91      0.83      0.87       180\n",
      "        8.0       0.88      0.91      0.89       170\n",
      "        9.0       0.90      0.75      0.82       152\n",
      "       10.0       0.81      0.89      0.85       177\n",
      "\n",
      "avg / total       0.87      0.86      0.86      2000\n",
      "\n",
      "()\n"
     ]
    }
   ],
   "source": [
    "##### LMNN TUNNING USPS ########  (Long execution!!)\n",
    "lmnnclf = GridSearchCV(LargeMarginNearestNeighbor(), lmnn_param_grid, cv=5, n_jobs=20, verbose=3)\n",
    "lmnnclf.fit(X_train_labelled, y_train_labelled)\n",
    "\n",
    "print(\"LMNN Best parameters set found on development set:\")\n",
    "print()\n",
    "print(lmnnclf.best_params_)\n",
    "print()\n",
    "print(\"Grid scores on development set:\")\n",
    "print()\n",
    "means = lmnnclf.cv_results_['mean_test_score']\n",
    "stds = lmnnclf.cv_results_['std_test_score']\n",
    "for mean, std, params in zip(means, stds, lmnnclf.cv_results_['params']):\n",
    "    print(\"%0.3f (+/-%0.03f) for %r\"\n",
    "          % (mean, std * 2, params))\n",
    "print()\n",
    "\n",
    "print(\"Detailed classification report:\")\n",
    "print()\n",
    "print(\"The model is trained on the full development set.\")\n",
    "print(\"The scores are computed on the full evaluation set.\")\n",
    "print()\n",
    "y_true, y_pred = y_test, lmnnclf.predict(X_test)\n",
    "print(classification_report(y_true, y_pred))\n",
    "print()"
   ]
  },
  {
   "cell_type": "markdown",
   "metadata": {},
   "source": [
    "*  **SSC **"
   ]
  },
  {
   "cell_type": "code",
   "execution_count": 100,
   "metadata": {},
   "outputs": [
    {
     "name": "stdout",
     "output_type": "stream",
     "text": [
      "Fitting 5 folds for each of 5 candidates, totalling 25 fits\n",
      "[CV] max_iter=2 ......................................................\n",
      "[CV] max_iter=2 ......................................................\n",
      "[CV] max_iter=2 ......................................................\n",
      "[CV] max_iter=2 ......................................................\n",
      "[CV] max_iter=2 ......................................................\n",
      "[CV] max_iter=5 ......................................................\n",
      "[CV] max_iter=5 ......................................................\n",
      "[CV] max_iter=5 ......................................................\n",
      "[CV] max_iter=5 ......................................................\n",
      "[CV] max_iter=5 ......................................................\n",
      "[CV] max_iter=10 .....................................................\n",
      "[CV] max_iter=10 .....................................................\n",
      "[CV] max_iter=10 .....................................................\n",
      "[CV] max_iter=10 .....................................................\n",
      "[CV] max_iter=10 .....................................................\n",
      "[CV] max_iter=50 .....................................................\n",
      "[CV] max_iter=50 .....................................................\n",
      "[CV] max_iter=50 .....................................................\n",
      "[CV] max_iter=50 .....................................................\n",
      "[CV] max_iter=50 .....................................................\n",
      "[CV] ................. max_iter=2, score=0.916666666667, total=  10.3s\n",
      "[CV] max_iter=100 ....................................................\n",
      "[CV] ................. max_iter=2, score=0.829268292683, total=  11.6s\n",
      "[CV] max_iter=100 ....................................................\n",
      "[CV] ................. max_iter=2, score=0.767441860465, total=  12.4s\n",
      "[CV] max_iter=100 ....................................................\n",
      "[CV] .................. max_iter=2, score=0.72972972973, total=  12.4s\n",
      "[CV] max_iter=100 ....................................................\n"
     ]
    },
    {
     "name": "stderr",
     "output_type": "stream",
     "text": [
      "[Parallel(n_jobs=20)]: Done   4 out of  25 | elapsed:   12.7s remaining:  1.1min\n"
     ]
    },
    {
     "name": "stdout",
     "output_type": "stream",
     "text": [
      "[CV] ................. max_iter=2, score=0.837209302326, total=  14.0s\n",
      "[CV] max_iter=100 ....................................................\n",
      "[CV] ................. max_iter=5, score=0.906976744186, total=  16.0s\n",
      "[CV] ................. max_iter=5, score=0.756756756757, total=  17.8s\n",
      "[CV] .................. max_iter=5, score=0.80487804878, total=  21.1s\n",
      "[CV] ................. max_iter=5, score=0.833333333333, total=  21.6s\n",
      "[CV] ................. max_iter=5, score=0.744186046512, total=  23.3s\n",
      "[CV] ................ max_iter=10, score=0.860465116279, total=  29.8s\n",
      "[CV] ................ max_iter=10, score=0.916666666667, total=  34.2s\n",
      "[CV] ................ max_iter=10, score=0.756756756757, total=  37.6s\n"
     ]
    },
    {
     "name": "stderr",
     "output_type": "stream",
     "text": [
      "[Parallel(n_jobs=20)]: Done  13 out of  25 | elapsed:   37.7s remaining:   34.8s\n"
     ]
    },
    {
     "name": "stdout",
     "output_type": "stream",
     "text": [
      "[CV] ................ max_iter=10, score=0.744186046512, total=  40.5s\n",
      "[CV] ................. max_iter=10, score=0.80487804878, total=  40.6s\n",
      "[CV] ............... max_iter=100, score=0.780487804878, total= 2.8min\n",
      "[CV] ................ max_iter=50, score=0.780487804878, total= 3.2min\n",
      "[CV] ................ max_iter=50, score=0.837209302326, total= 3.8min\n",
      "[CV] ............... max_iter=100, score=0.837209302326, total= 3.9min\n",
      "[CV] ................ max_iter=50, score=0.888888888889, total= 5.0min\n",
      "[CV] ............... max_iter=100, score=0.888888888889, total= 5.2min\n",
      "[CV] ................ max_iter=50, score=0.744186046512, total= 6.5min\n"
     ]
    },
    {
     "name": "stderr",
     "output_type": "stream",
     "text": [
      "[Parallel(n_jobs=20)]: Done  22 out of  25 | elapsed:  6.5min remaining:   53.3s\n"
     ]
    },
    {
     "name": "stdout",
     "output_type": "stream",
     "text": [
      "[CV] ............... max_iter=100, score=0.744186046512, total= 6.4min\n",
      "[CV] ................. max_iter=50, score=0.72972972973, total= 6.9min\n",
      "[CV] ................ max_iter=100, score=0.72972972973, total= 6.7min\n"
     ]
    },
    {
     "name": "stderr",
     "output_type": "stream",
     "text": [
      "[Parallel(n_jobs=20)]: Done  25 out of  25 | elapsed:  7.0min finished\n"
     ]
    },
    {
     "name": "stdout",
     "output_type": "stream",
     "text": [
      "SSC Best parameters set found on development set:\n",
      "()\n",
      "{'max_iter': 2}\n",
      "()\n",
      "Grid scores on development set:\n",
      "()\n",
      "0.815 (+/-0.124) for {'max_iter': 2}\n",
      "0.810 (+/-0.120) for {'max_iter': 5}\n",
      "0.815 (+/-0.127) for {'max_iter': 10}\n",
      "0.795 (+/-0.116) for {'max_iter': 50}\n",
      "0.795 (+/-0.116) for {'max_iter': 100}\n",
      "()\n",
      "Detailed classification report:\n",
      "()\n",
      "The model is trained on the full development set.\n",
      "The scores are computed on the full evaluation set.\n",
      "()\n",
      "             precision    recall  f1-score   support\n",
      "\n",
      "        1.0       0.91      0.98      0.95       334\n",
      "        2.0       0.94      0.99      0.96       273\n",
      "        3.0       0.83      0.81      0.82       200\n",
      "        4.0       0.78      0.90      0.83       177\n",
      "        5.0       0.81      0.75      0.78       183\n",
      "        6.0       0.88      0.71      0.78       154\n",
      "        7.0       0.95      0.88      0.91       180\n",
      "        8.0       0.89      0.93      0.91       170\n",
      "        9.0       0.91      0.72      0.80       152\n",
      "       10.0       0.80      0.88      0.84       177\n",
      "\n",
      "avg / total       0.87      0.87      0.87      2000\n",
      "\n",
      "()\n"
     ]
    }
   ],
   "source": [
    "##### SSC LMNN TUNNING USPS ######## (Long execution!!)\n",
    "sscclf = GridSearchCV(SemiSupervisedLargeMarginNearestNeighbor(X_unlabeled=X_train_unlabelled), ssc_param_grid, cv=5, n_jobs=20, verbose=3)\n",
    "sscclf.fit(X_train_labelled, y_train_labelled)\n",
    "\n",
    "print(\"SSC Best parameters set found on development set:\")\n",
    "print()\n",
    "print(sscclf.best_params_)\n",
    "print()\n",
    "print(\"Grid scores on development set:\")\n",
    "print()\n",
    "means = sscclf.cv_results_['mean_test_score']\n",
    "stds = sscclf.cv_results_['std_test_score']\n",
    "for mean, std, params in zip(means, stds, sscclf.cv_results_['params']):\n",
    "    print(\"%0.3f (+/-%0.03f) for %r\"\n",
    "          % (mean, std * 2, params))\n",
    "print()\n",
    "\n",
    "print(\"Detailed classification report:\")\n",
    "print()\n",
    "print(\"The model is trained on the full development set.\")\n",
    "print(\"The scores are computed on the full evaluation set.\")\n",
    "print()\n",
    "y_true, y_pred = y_test, sscclf.predict(X_test)\n",
    "print(classification_report(y_true, y_pred))\n",
    "print()"
   ]
  },
  {
   "cell_type": "markdown",
   "metadata": {},
   "source": [
    "* **Compare with KNN**"
   ]
  },
  {
   "cell_type": "code",
   "execution_count": 101,
   "metadata": {},
   "outputs": [
    {
     "name": "stdout",
     "output_type": "stream",
     "text": [
      "('######## Performance Test:  Labelled = ', (200, 33), '  ###  Unlabelled = ', (4000, 33), '###########')\n",
      "('########  K = ', 4, ' ###########')\n",
      "('###### Cross Validate Data Shape: ', (2000, 33))\n",
      "('##### Average Performance: ', 0.9469860990669063)\n",
      "('USPS KNN : ', [0.9454094292803971, 0.9478908188585607, 0.9575, 0.9422110552763819, 0.9419191919191919])\n",
      "('###### Cross Validate Data Shape: ', (2000, 33))\n",
      "('##### Average Performance: ', 0.9479835611246699)\n",
      "('USPS LMNN : ', [0.9528535980148883, 0.9404466501240695, 0.9625, 0.9447236180904522, 0.9393939393939394])\n",
      "('###### Cross Validate Data Shape: ', (2000, 33))\n",
      "('##### Average Performance: ', 0.9449658970467043)\n",
      "('USPS SSC : ', [0.9454094292803971, 0.9478908188585607, 0.9575, 0.9422110552763819, 0.9318181818181818])\n"
     ]
    }
   ],
   "source": [
    "print(\"######## Performance Test:  Labelled = \",X_train_labelled.shape, \"  ###  Unlabelled = \", X_train_unlabelled.shape, \"###########\")\n",
    "k=4\n",
    "\n",
    "print(\"########  K = \",k, \" ###########\")\n",
    "\n",
    "neigh = KNeighborsClassifier(n_neighbors=k)\n",
    "print(\"USPS KNN : \",  cross_validate_test(neigh, X_test, y_test, cv=5))\n",
    "\n",
    "lmnn = LargeMarginNearestNeighbor(max_iter=2)\n",
    "print(\"USPS LMNN : \", cross_validate_test(lmnn, X_test, y_test, cv=5))\n",
    "\n",
    "ssc = SemiSupervisedLargeMarginNearestNeighbor(X_unlabeled=X_train_unlabelled,max_iter=2)\n",
    "print(\"USPS SSC : \", cross_validate_test(ssc, X_test, y_test, cv=5))\n"
   ]
  },
  {
   "cell_type": "markdown",
   "metadata": {},
   "source": [
    "***\n",
    "### Test 2 : Find the Best max_itr for MNIST (Labeled: 200, Unlabeled: 4000, Test: 2000)\n",
    "***\n",
    "*  **LMNN **"
   ]
  },
  {
   "cell_type": "code",
   "execution_count": 107,
   "metadata": {},
   "outputs": [],
   "source": [
    "mnist = fetch_mldata('MNIST original', data_home='ml_data/mnist')  #Download MMNIST\n",
    "X_all, y_all = mnist.data, mnist.target\n",
    "my_model = PCA(n_components=0.95, svd_solver='full')\n",
    "X_all=my_model.fit_transform(X_all)\n",
    "\n",
    "X_train, X_test, y_train, y_test = train_test_split(X_all, y_all, test_size=2000, stratify=y_all, random_state=42)\n",
    "X_train_labelled, X_train_rest, y_train_labelled, y_train_rest = train_test_split(X_train, y_train, train_size=200, stratify=y_train, random_state=42)\n",
    "\n",
    "sample_inds=np.random.randint(X_train_rest.shape[0], size=4000)\n",
    "X_train_unlabelled=X_train_rest[sample_inds, :]"
   ]
  },
  {
   "cell_type": "code",
   "execution_count": 108,
   "metadata": {},
   "outputs": [
    {
     "name": "stdout",
     "output_type": "stream",
     "text": [
      "Fitting 5 folds for each of 5 candidates, totalling 25 fits\n",
      "[CV] max_iter=2 ......................................................\n",
      "[CV] max_iter=2 ......................................................\n",
      "[CV] max_iter=2 ......................................................\n",
      "[CV] max_iter=2 ......................................................\n",
      "[CV] max_iter=5 ......................................................\n",
      "[CV] max_iter=2 ......................................................\n",
      "[CV] max_iter=5 ......................................................\n",
      "[CV] max_iter=5 ......................................................\n",
      "[CV] max_iter=5 ......................................................\n",
      "[CV] max_iter=5 ......................................................\n",
      "[CV] max_iter=10 .....................................................\n",
      "[CV] max_iter=10 .....................................................\n",
      "[CV] max_iter=10 .....................................................\n",
      "[CV] max_iter=10 .....................................................\n",
      "[CV] max_iter=10 .....................................................\n",
      "[CV] max_iter=50 .....................................................\n",
      "[CV] max_iter=50 .....................................................\n",
      "[CV] max_iter=50 .....................................................\n",
      "[CV] max_iter=50 .....................................................\n",
      "[CV] max_iter=50 .....................................................\n",
      "[CV] ................. max_iter=2, score=0.642857142857, total=  13.8s\n",
      "[CV] max_iter=100 ....................................................\n",
      "[CV] ................. max_iter=2, score=0.682926829268, total=  18.9s\n",
      "[CV] max_iter=100 ....................................................\n",
      "[CV] ................. max_iter=2, score=0.780487804878, total=  20.5s\n",
      "[CV] max_iter=100 ....................................................\n",
      "[CV] .................. max_iter=2, score=0.74358974359, total=  21.4s\n",
      "[CV] max_iter=100 ....................................................\n"
     ]
    },
    {
     "name": "stderr",
     "output_type": "stream",
     "text": [
      "[Parallel(n_jobs=20)]: Done   4 out of  25 | elapsed:   21.6s remaining:  1.9min\n"
     ]
    },
    {
     "name": "stdout",
     "output_type": "stream",
     "text": [
      "[CV] ................. max_iter=2, score=0.810810810811, total=  21.8s\n",
      "[CV] max_iter=100 ....................................................\n",
      "[CV] ................. max_iter=5, score=0.731707317073, total=  24.1s\n",
      "[CV] ................. max_iter=5, score=0.658536585366, total=  27.5s\n",
      "[CV] ................. max_iter=5, score=0.769230769231, total=  30.5s\n",
      "[CV] ................. max_iter=5, score=0.666666666667, total=  32.1s\n",
      "[CV] ................. max_iter=5, score=0.783783783784, total=  33.0s\n",
      "[CV] ................ max_iter=10, score=0.609756097561, total=  33.8s\n",
      "[CV] ................. max_iter=10, score=0.72972972973, total=  39.7s\n",
      "[CV] ................ max_iter=10, score=0.658536585366, total=  40.5s\n"
     ]
    },
    {
     "name": "stderr",
     "output_type": "stream",
     "text": [
      "[Parallel(n_jobs=20)]: Done  13 out of  25 | elapsed:   40.9s remaining:   37.7s\n"
     ]
    },
    {
     "name": "stdout",
     "output_type": "stream",
     "text": [
      "[CV] ................ max_iter=10, score=0.595238095238, total=  41.0s\n",
      "[CV] ................ max_iter=10, score=0.615384615385, total=  41.5s\n",
      "[CV] ................ max_iter=50, score=0.333333333333, total= 1.6min\n",
      "[CV] ................ max_iter=50, score=0.432432432432, total= 1.6min\n",
      "[CV] ................ max_iter=50, score=0.341463414634, total= 1.6min\n",
      "[CV] ................ max_iter=50, score=0.365853658537, total= 1.6min\n",
      "[CV] ................ max_iter=50, score=0.452380952381, total= 1.7min\n",
      "[CV] ............... max_iter=100, score=0.333333333333, total= 2.2min\n",
      "[CV] ................ max_iter=100, score=0.19512195122, total= 2.3min\n"
     ]
    },
    {
     "name": "stderr",
     "output_type": "stream",
     "text": [
      "[Parallel(n_jobs=20)]: Done  22 out of  25 | elapsed:  2.6min remaining:   21.2s\n"
     ]
    },
    {
     "name": "stdout",
     "output_type": "stream",
     "text": [
      "[CV] ................ max_iter=100, score=0.25641025641, total= 2.2min\n",
      "[CV] ............... max_iter=100, score=0.297297297297, total= 2.3min\n",
      "[CV] ............... max_iter=100, score=0.317073170732, total= 2.3min\n"
     ]
    },
    {
     "name": "stderr",
     "output_type": "stream",
     "text": [
      "[Parallel(n_jobs=20)]: Done  25 out of  25 | elapsed:  2.6min finished\n"
     ]
    },
    {
     "name": "stdout",
     "output_type": "stream",
     "text": [
      "LMNN Best parameters set found on development set:\n",
      "()\n",
      "{'max_iter': 2}\n",
      "()\n",
      "Grid scores on development set:\n",
      "()\n",
      "0.730 (+/-0.124) for {'max_iter': 2}\n",
      "0.720 (+/-0.102) for {'max_iter': 5}\n",
      "0.640 (+/-0.096) for {'max_iter': 10}\n",
      "0.385 (+/-0.097) for {'max_iter': 50}\n",
      "0.280 (+/-0.100) for {'max_iter': 100}\n",
      "()\n",
      "Detailed classification report:\n",
      "()\n",
      "The model is trained on the full development set.\n",
      "The scores are computed on the full evaluation set.\n",
      "()\n",
      "             precision    recall  f1-score   support\n",
      "\n",
      "        0.0       0.79      0.96      0.87       197\n",
      "        1.0       0.83      0.92      0.87       225\n",
      "        2.0       0.81      0.74      0.78       200\n",
      "        3.0       0.79      0.74      0.76       204\n",
      "        4.0       0.86      0.67      0.76       195\n",
      "        5.0       0.79      0.68      0.73       180\n",
      "        6.0       0.84      0.91      0.88       197\n",
      "        7.0       0.83      0.80      0.81       208\n",
      "        8.0       0.79      0.53      0.63       195\n",
      "        9.0       0.58      0.83      0.68       199\n",
      "\n",
      "avg / total       0.79      0.78      0.78      2000\n",
      "\n",
      "()\n"
     ]
    }
   ],
   "source": [
    "##### LMNN TUNNING MNIST ########  (Long execution!!)\n",
    "lmnnclf = GridSearchCV(LargeMarginNearestNeighbor(), lmnn_param_grid, cv=5, n_jobs=20, verbose=3)\n",
    "lmnnclf.fit(X_train_labelled, y_train_labelled)\n",
    "\n",
    "print(\"LMNN Best parameters set found on development set:\")\n",
    "print()\n",
    "print(lmnnclf.best_params_)\n",
    "print()\n",
    "print(\"Grid scores on development set:\")\n",
    "print()\n",
    "means = lmnnclf.cv_results_['mean_test_score']\n",
    "stds = lmnnclf.cv_results_['std_test_score']\n",
    "for mean, std, params in zip(means, stds, lmnnclf.cv_results_['params']):\n",
    "    print(\"%0.3f (+/-%0.03f) for %r\"\n",
    "          % (mean, std * 2, params))\n",
    "print()\n",
    "\n",
    "print(\"Detailed classification report:\")\n",
    "print()\n",
    "print(\"The model is trained on the full development set.\")\n",
    "print(\"The scores are computed on the full evaluation set.\")\n",
    "print()\n",
    "y_true, y_pred = y_test, lmnnclf.predict(X_test)\n",
    "print(classification_report(y_true, y_pred))\n",
    "print()"
   ]
  },
  {
   "cell_type": "code",
   "execution_count": 110,
   "metadata": {},
   "outputs": [
    {
     "name": "stdout",
     "output_type": "stream",
     "text": [
      "Fitting 5 folds for each of 5 candidates, totalling 25 fits\n",
      "[CV] max_iter=2 ......................................................\n",
      "[CV] max_iter=2 ......................................................\n",
      "[CV] max_iter=2 ......................................................\n",
      "[CV] max_iter=2 ......................................................\n",
      "[CV] max_iter=5 ......................................................\n",
      "[CV] max_iter=2 ......................................................\n",
      "[CV] max_iter=5 ......................................................\n",
      "[CV] max_iter=5 ......................................................\n",
      "[CV] max_iter=5 ......................................................\n",
      "[CV] max_iter=5 ......................................................\n",
      "[CV] max_iter=10 .....................................................\n",
      "[CV] max_iter=10 .....................................................\n",
      "[CV] max_iter=10 .....................................................\n",
      "[CV] max_iter=10 .....................................................\n",
      "[CV] max_iter=10 .....................................................\n",
      "[CV] max_iter=50 .....................................................\n",
      "[CV] max_iter=50 .....................................................\n",
      "[CV] max_iter=50 .....................................................\n",
      "[CV] max_iter=50 .....................................................\n",
      "[CV] max_iter=50 .....................................................\n",
      "[CV] ................. max_iter=2, score=0.682926829268, total=  17.0s\n",
      "[CV] max_iter=100 ....................................................\n",
      "[CV] ................. max_iter=2, score=0.666666666667, total=  19.5s\n",
      "[CV] max_iter=100 ....................................................\n",
      "[CV] ................. max_iter=2, score=0.682926829268, total=  20.3s\n",
      "[CV] max_iter=100 ....................................................\n",
      "[CV] ................. max_iter=2, score=0.717948717949, total=  22.7s\n",
      "[CV] max_iter=100 ....................................................\n"
     ]
    },
    {
     "name": "stderr",
     "output_type": "stream",
     "text": [
      "[Parallel(n_jobs=20)]: Done   4 out of  25 | elapsed:   22.9s remaining:  2.0min\n"
     ]
    },
    {
     "name": "stdout",
     "output_type": "stream",
     "text": [
      "[CV] ................. max_iter=2, score=0.864864864865, total=  25.8s\n",
      "[CV] max_iter=100 ....................................................\n",
      "[CV] ................. max_iter=5, score=0.642857142857, total=  28.6s\n",
      "[CV] ................. max_iter=5, score=0.731707317073, total=  34.5s\n",
      "[CV] ................. max_iter=5, score=0.717948717949, total=  35.5s\n",
      "[CV] ................. max_iter=5, score=0.707317073171, total=  36.3s\n",
      "[CV] ................. max_iter=5, score=0.918918918919, total=  40.7s\n",
      "[CV] ................ max_iter=10, score=0.642857142857, total=  44.0s\n",
      "[CV] ................ max_iter=10, score=0.658536585366, total=  44.8s\n",
      "[CV] ................ max_iter=10, score=0.682926829268, total=  46.4s\n"
     ]
    },
    {
     "name": "stderr",
     "output_type": "stream",
     "text": [
      "[Parallel(n_jobs=20)]: Done  13 out of  25 | elapsed:   46.8s remaining:   43.2s\n"
     ]
    },
    {
     "name": "stdout",
     "output_type": "stream",
     "text": [
      "[CV] ................ max_iter=10, score=0.589743589744, total=  51.3s\n",
      "[CV] ................ max_iter=10, score=0.864864864865, total=  59.5s\n",
      "[CV] ................ max_iter=50, score=0.619047619048, total= 2.4min\n",
      "[CV] ............... max_iter=100, score=0.536585365854, total= 2.5min\n",
      "[CV] ................ max_iter=50, score=0.538461538462, total= 2.9min\n",
      "[CV] ................ max_iter=50, score=0.536585365854, total= 2.9min\n",
      "[CV] ................ max_iter=50, score=0.560975609756, total= 3.0min\n",
      "[CV] ............... max_iter=100, score=0.538461538462, total= 2.7min\n",
      "[CV] ................ max_iter=50, score=0.513513513514, total= 3.6min\n"
     ]
    },
    {
     "name": "stderr",
     "output_type": "stream",
     "text": [
      "[Parallel(n_jobs=20)]: Done  22 out of  25 | elapsed:  3.6min remaining:   29.2s\n"
     ]
    },
    {
     "name": "stdout",
     "output_type": "stream",
     "text": [
      "[CV] ............... max_iter=100, score=0.595238095238, total= 3.5min\n",
      "[CV] ............... max_iter=100, score=0.560975609756, total= 4.0min\n",
      "[CV] ............... max_iter=100, score=0.513513513514, total= 5.4min\n"
     ]
    },
    {
     "name": "stderr",
     "output_type": "stream",
     "text": [
      "[Parallel(n_jobs=20)]: Done  25 out of  25 | elapsed:  5.8min finished\n"
     ]
    },
    {
     "name": "stdout",
     "output_type": "stream",
     "text": [
      "SSC Best parameters set found on development set:\n",
      "()\n",
      "{'max_iter': 5}\n",
      "()\n",
      "Grid scores on development set:\n",
      "()\n",
      "0.720 (+/-0.142) for {'max_iter': 2}\n",
      "0.740 (+/-0.181) for {'max_iter': 5}\n",
      "0.685 (+/-0.182) for {'max_iter': 10}\n",
      "0.555 (+/-0.072) for {'max_iter': 50}\n",
      "0.550 (+/-0.055) for {'max_iter': 100}\n",
      "()\n",
      "Detailed classification report:\n",
      "()\n",
      "The model is trained on the full development set.\n",
      "The scores are computed on the full evaluation set.\n",
      "()\n",
      "             precision    recall  f1-score   support\n",
      "\n",
      "        0.0       0.80      0.94      0.86       197\n",
      "        1.0       0.84      0.92      0.88       225\n",
      "        2.0       0.74      0.76      0.75       200\n",
      "        3.0       0.83      0.77      0.80       204\n",
      "        4.0       0.70      0.69      0.70       195\n",
      "        5.0       0.85      0.67      0.75       180\n",
      "        6.0       0.82      0.88      0.85       197\n",
      "        7.0       0.85      0.76      0.80       208\n",
      "        8.0       0.79      0.64      0.71       195\n",
      "        9.0       0.56      0.68      0.62       199\n",
      "\n",
      "avg / total       0.78      0.77      0.77      2000\n",
      "\n",
      "()\n"
     ]
    }
   ],
   "source": [
    "##### SSC LMNN TUNNING MNIST ######## (Long execution!!)\n",
    "sscclf = GridSearchCV(SemiSupervisedLargeMarginNearestNeighbor(X_unlabeled=X_train_unlabelled), ssc_param_grid, cv=5, n_jobs=20, verbose=3)\n",
    "sscclf.fit(X_train_labelled, y_train_labelled)\n",
    "\n",
    "print(\"SSC Best parameters set found on development set:\")\n",
    "print()\n",
    "print(sscclf.best_params_)\n",
    "print()\n",
    "print(\"Grid scores on development set:\")\n",
    "print()\n",
    "means = sscclf.cv_results_['mean_test_score']\n",
    "stds = sscclf.cv_results_['std_test_score']\n",
    "for mean, std, params in zip(means, stds, sscclf.cv_results_['params']):\n",
    "    print(\"%0.3f (+/-%0.03f) for %r\"\n",
    "          % (mean, std * 2, params))\n",
    "print()\n",
    "\n",
    "print(\"Detailed classification report:\")\n",
    "print()\n",
    "print(\"The model is trained on the full development set.\")\n",
    "print(\"The scores are computed on the full evaluation set.\")\n",
    "print()\n",
    "y_true, y_pred = y_test, sscclf.predict(X_test)\n",
    "print(classification_report(y_true, y_pred))\n",
    "print()"
   ]
  },
  {
   "cell_type": "code",
   "execution_count": 111,
   "metadata": {},
   "outputs": [
    {
     "name": "stdout",
     "output_type": "stream",
     "text": [
      "('######## Performance Test:  Labelled = ', (200, 154), '  ###  Unlabelled = ', (4000, 154), '###########')\n",
      "('########  K = ', 4, ' ###########')\n",
      "('###### Cross Validate Data Shape: ', (2000, 154))\n",
      "('##### Average Performance: ', 0.9009826515139308)\n",
      "('MNIST KNN : ', [0.8880597014925373, 0.9154228855721394, 0.9075, 0.9047619047619048, 0.889168765743073])\n",
      "('###### Cross Validate Data Shape: ', (2000, 154))\n",
      "('##### Average Performance: ', 0.9070078654472944)\n",
      "('MNIST LMNN : ', [0.8930348258706468, 0.9129353233830846, 0.915, 0.9072681704260651, 0.906801007556675])\n",
      "('###### Cross Validate Data Shape: ', (2000, 154))\n",
      "('##### Average Performance: ', 0.8910212559576692)\n",
      "('MNIST SSC : ', [0.8731343283582089, 0.8930348258706468, 0.9025, 0.8922305764411027, 0.8942065491183879])\n"
     ]
    }
   ],
   "source": [
    "print(\"######## Performance Test:  Labelled = \",X_train_labelled.shape, \"  ###  Unlabelled = \", X_train_unlabelled.shape, \"###########\")\n",
    "k=4\n",
    "\n",
    "print(\"########  K = \",k, \" ###########\")\n",
    "\n",
    "neigh = KNeighborsClassifier(n_neighbors=k)\n",
    "print(\"MNIST KNN : \",  cross_validate_test(neigh, X_test, y_test, cv=5))\n",
    "\n",
    "lmnn = LargeMarginNearestNeighbor(max_iter=2)\n",
    "print(\"MNIST LMNN : \", cross_validate_test(lmnn, X_test, y_test, cv=5))\n",
    "\n",
    "ssc = SemiSupervisedLargeMarginNearestNeighbor(X_unlabeled=X_train_unlabelled,max_iter=2)\n",
    "print(\"MNIST SSC : \", cross_validate_test(ssc, X_test, y_test, cv=5))"
   ]
  }
 ],
 "metadata": {
  "kernelspec": {
   "display_name": "Python 2",
   "language": "python",
   "name": "python2"
  },
  "language_info": {
   "codemirror_mode": {
    "name": "ipython",
    "version": 2
   },
   "file_extension": ".py",
   "mimetype": "text/x-python",
   "name": "python",
   "nbconvert_exporter": "python",
   "pygments_lexer": "ipython2",
   "version": "2.7.14"
  }
 },
 "nbformat": 4,
 "nbformat_minor": 2
}
