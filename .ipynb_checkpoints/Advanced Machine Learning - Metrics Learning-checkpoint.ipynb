{
 "cells": [
  {
   "cell_type": "code",
   "execution_count": 1,
   "metadata": {},
   "outputs": [],
   "source": [
    "from numpy.linalg import norm\n",
    "import numpy as np\n",
    "from scipy import sparse\n",
    "from matplotlib import pyplot as plt\n",
    "from scipy import optimize\n",
    "from scipy.sparse import csr_matrix\n",
    "from scipy.optimize import minimize\n",
    "from sklearn.datasets import load_iris\n",
    "from sklearn.datasets import load_svmlight_file\n",
    "from sklearn.neighbors import KNeighborsClassifier\n",
    "from sklearn.model_selection import cross_val_score\n",
    "from sklearn.metrics.pairwise import euclidean_distances\n",
    "from sklearn.utils.validation import check_is_fitted, check_array, check_X_y, check_random_state\n",
    "from sklearn.model_selection import train_test_split\n",
    "from sklearn.datasets import fetch_mldata\n",
    "from LMNN import LargeMarginNearestNeighbor\n",
    "import time"
   ]
  },
  {
   "cell_type": "markdown",
   "metadata": {},
   "source": [
    "# Metrics Learning \n",
    "\n",
    "**Group Members: Oskar Hint , Xiaoshen Hou,  Kasper Schønberg,  Valentine Van Der Nya**\n",
    "\n",
    "***\n",
    "## 0.  Experinment 0 - Iris data \n"
   ]
  },
  {
   "cell_type": "code",
   "execution_count": 14,
   "metadata": {
    "collapsed": true
   },
   "outputs": [],
   "source": [
    "# data\n",
    "dataset = load_iris()\n",
    "X, y = dataset.data, dataset.target\n",
    "\n",
    "X_train, X_test, y_train, y_test = train_test_split(X, y, test_size=0.7, random_state=42)"
   ]
  },
  {
   "cell_type": "code",
   "execution_count": 15,
   "metadata": {
    "scrolled": false
   },
   "outputs": [
    {
     "name": "stdout",
     "output_type": "stream",
     "text": [
      "########  K =  3  ###########\n",
      "Iris LMNN :  0.971428571429  Time(s) : 0.391000032425\n",
      "Iris KNN :  0.971428571429\n",
      "########  K =  4  ###########\n",
      "Iris LMNN :  0.980952380952  Time(s) : 0.113999843597\n",
      "Iris KNN :  0.942857142857\n",
      "########  K =  5  ###########\n",
      "Iris LMNN :  0.971428571429  Time(s) : 0.387000083923\n",
      "Iris KNN :  0.971428571429\n",
      "########  K =  6  ###########\n",
      "Iris LMNN :  0.980952380952  Time(s) : 0.705999851227\n",
      "Iris KNN :  0.952380952381\n",
      "########  K =  7  ###########\n",
      "Iris LMNN :  0.961904761905  Time(s) : 0.661000013351\n",
      "Iris KNN :  0.961904761905\n",
      "########  K =  8  ###########\n",
      "Iris LMNN :  0.971428571429  Time(s) : 0.638999938965\n",
      "Iris KNN :  0.961904761905\n",
      "########  K =  9  ###########\n",
      "Iris LMNN :  0.980952380952  Time(s) : 0.952000141144\n",
      "Iris KNN :  0.952380952381\n",
      "########  K =  10  ###########\n",
      "Iris LMNN :  0.961904761905  Time(s) : 2.93200016022\n",
      "Iris KNN :  0.952380952381\n"
     ]
    }
   ],
   "source": [
    "K=[3,4,5,6,7,8,9,10]\n",
    "for k in K:\n",
    "    print \"########  K = \",k, \" ###########\"\n",
    "    time1 = time.time()\n",
    "    lmnn = LargeMarginNearestNeighbor(n_neighbors=k)\n",
    "    lmnn.fit(X_train,y_train)\n",
    "    time2 = time.time()\n",
    "    print \"Iris LMNN : \", lmnn.score(X_test,y_test), \" Time(s) :\", (time2-time1)\n",
    "   \n",
    "    neigh = KNeighborsClassifier(n_neighbors=k)\n",
    "    neigh.fit(X_train,y_train)\n",
    "    print \"Iris KNN : \", neigh.score(X_test,y_test)"
   ]
  },
  {
   "cell_type": "markdown",
   "metadata": {},
   "source": [
    "***\n",
    "## 1.  Experinment 1 - USPS data "
   ]
  },
  {
   "cell_type": "code",
   "execution_count": 21,
   "metadata": {
    "collapsed": true
   },
   "outputs": [],
   "source": [
    "def get_USPS_training_data():\n",
    "    data = load_svmlight_file('ml_data/usps/usps')\n",
    "    return data[0], data[1]\n",
    "\n",
    "def get_USPS_testing_data():\n",
    "    data = load_svmlight_file('ml_data/usps/usps.t')\n",
    "    return data[0], data[1]\n",
    "\n",
    "X_train, y_train = get_USPS_training_data()\n",
    "X_test, y_test = get_USPS_testing_data()"
   ]
  },
  {
   "cell_type": "code",
   "execution_count": 24,
   "metadata": {},
   "outputs": [
    {
     "name": "stdout",
     "output_type": "stream",
     "text": [
      " ########  K =  3  ###########\n",
      "USPS LMNN :  0.811659192825\n",
      "USPS KNN :  0.810164424514\n",
      "########  K =  4  ###########\n",
      "USPS LMNN :  0.798206278027\n",
      "USPS KNN :  0.801694070752\n",
      "########  K =  5  ###########\n",
      "USPS LMNN :  0.794220229198\n",
      "USPS KNN :  0.794220229198\n",
      "########  K =  6  ###########\n",
      "USPS LMNN :  0.799701046338\n",
      "USPS KNN :  0.785251619332\n",
      "########  K =  7  ###########\n",
      "USPS LMNN :  0.747384155456\n",
      "USPS KNN :  0.772795216741\n",
      "########  K =  8  ###########\n",
      "USPS LMNN :  0.691579471849\n",
      "USPS KNN :  0.766317887394\n",
      "########  K =  9  ###########\n",
      "USPS LMNN :  0.684603886398\n",
      "USPS KNN :  0.757847533632\n",
      "########  K =  10  ###########\n",
      "USPS LMNN :  0.697060288989\n",
      "USPS KNN :  0.750871948181\n"
     ]
    }
   ],
   "source": [
    "K=[3,4,5,6,7,8,9,10]\n",
    "for k in K:\n",
    "    print \"########  K = \",k, \" ###########\"\n",
    "    lmnn = LargeMarginNearestNeighbor(n_neighbors=k)\n",
    "    lmnn.fit(X_train[0:200,].todense(),y_train[0:200,])\n",
    "    print \"USPS LMNN : \", lmnn.score(X_test.todense(),y_test)\n",
    "\n",
    "    neigh = KNeighborsClassifier(n_neighbors=k)\n",
    "    neigh.fit(X_train[0:200,].todense(),y_train[0:200,])\n",
    "    print \"USPS KNN : \", neigh.score(X_test.todense(),y_test)"
   ]
  },
  {
   "cell_type": "markdown",
   "metadata": {},
   "source": [
    "***\n",
    "## 2.  Experinment 2 - MNIST data "
   ]
  },
  {
   "cell_type": "code",
   "execution_count": 25,
   "metadata": {
    "collapsed": true
   },
   "outputs": [],
   "source": [
    "def get_MNIST_training_data():\n",
    "    data = load_svmlight_file('ml_data/mnist/mnist')\n",
    "    return data[0], data[1]\n",
    "\n",
    "def get_MNIST_testing_data():\n",
    "    data = load_svmlight_file('ml_data/mnist/mnist.t')\n",
    "    return data[0], data[1]\n",
    "\n",
    "X_train, y_train = get_MNIST_training_data()\n",
    "X_test, y_test = get_MNIST_testing_data()"
   ]
  },
  {
   "cell_type": "code",
   "execution_count": 3,
   "metadata": {},
   "outputs": [],
   "source": [
    "mnist = fetch_mldata('MNIST original', data_home='ml_data/mnist')  #Download MMNIST"
   ]
  },
  {
   "cell_type": "code",
   "execution_count": 4,
   "metadata": {},
   "outputs": [],
   "source": [
    "X, y = mnist.data, mnist.target\n",
    "X_train, X_test, y_train, y_test = train_test_split(X, y, test_size=0.99, random_state=42)"
   ]
  },
  {
   "cell_type": "code",
   "execution_count": 6,
   "metadata": {},
   "outputs": [
    {
     "name": "stdout",
     "output_type": "stream",
     "text": [
      "########  K =  3  ###########\n",
      "MNIST LMNN :  0.71038961039\n",
      "MNIST KNN :  0.70937950938\n",
      "########  K =  4  ###########\n",
      "MNIST LMNN :  0.717561327561\n",
      "MNIST KNN :  0.71367965368\n",
      "########  K =  5  ###########\n",
      "MNIST LMNN :  0.710721500722\n",
      "MNIST KNN :  0.704083694084\n",
      "########  K =  6  ###########\n",
      "MNIST LMNN :  0.702987012987\n",
      "MNIST KNN :  0.695137085137\n",
      "########  K =  7  ###########\n",
      "MNIST LMNN :  0.682481962482\n",
      "MNIST KNN :  0.677647907648\n",
      "########  K =  8  ###########\n",
      "MNIST LMNN :  0.677864357864\n",
      "MNIST KNN :  0.668932178932\n",
      "########  K =  9  ###########\n",
      "MNIST LMNN :  0.654920634921\n",
      "MNIST KNN :  0.654574314574\n",
      "########  K =  10  ###########\n",
      "MNIST LMNN :  0.646940836941\n",
      "MNIST KNN :  0.6456998557\n"
     ]
    }
   ],
   "source": [
    "K=[3,4,5,6,7,8,9,10]\n",
    "for k in K:\n",
    "    print \"########  K = \",k, \" ###########\"\n",
    "    lmnn = LargeMarginNearestNeighbor(n_neighbors=k)\n",
    "    lmnn.fit(X_train[0:200,],y_train[0:200])\n",
    "    print \"MNIST LMNN : \", lmnn.score(X_test,y_test)\n",
    "\n",
    "    neigh = KNeighborsClassifier(n_neighbors=k)\n",
    "    neigh.fit(X_train[0:200,],y_train[0:200,])\n",
    "    print \"MNIST KNN : \", neigh.score(X_test,y_test)"
   ]
  }
 ],
 "metadata": {
  "anaconda-cloud": {},
  "kernelspec": {
   "display_name": "Python [default]",
   "language": "python",
   "name": "python2"
  },
  "language_info": {
   "codemirror_mode": {
    "name": "ipython",
    "version": 2
   },
   "file_extension": ".py",
   "mimetype": "text/x-python",
   "name": "python",
   "nbconvert_exporter": "python",
   "pygments_lexer": "ipython2",
   "version": "2.7.12"
  }
 },
 "nbformat": 4,
 "nbformat_minor": 2
}
