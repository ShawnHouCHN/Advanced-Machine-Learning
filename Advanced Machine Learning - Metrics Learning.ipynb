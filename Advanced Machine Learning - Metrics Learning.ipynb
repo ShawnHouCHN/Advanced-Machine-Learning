{
 "cells": [
  {
   "cell_type": "code",
   "execution_count": 20,
   "metadata": {},
   "outputs": [],
   "source": [
    "from numpy.linalg import norm\n",
    "import numpy as np\n",
    "from scipy import sparse\n",
    "from matplotlib import pyplot as plt\n",
    "from scipy import optimize\n",
    "from scipy.sparse import csr_matrix\n",
    "from scipy.optimize import minimize\n",
    "from sklearn.datasets import load_iris\n",
    "from sklearn.datasets import load_svmlight_file\n",
    "from sklearn.neighbors import KNeighborsClassifier\n",
    "from sklearn.model_selection import cross_val_score\n",
    "from sklearn.metrics.pairwise import euclidean_distances\n",
    "from sklearn.utils.validation import check_is_fitted, check_array, check_X_y, check_random_state\n",
    "from sklearn.model_selection import train_test_split\n",
    "from sklearn.datasets import fetch_mldata\n",
    "from sklearn.model_selection import ParameterGrid,GridSearchCV\n",
    "from sklearn.metrics import confusion_matrix, classification_report\n",
    "\n",
    "from LMNN import LargeMarginNearestNeighbor\n",
    "from LMNN_SS import SemiSupervisedLargeMarginNearestNeighbor\n",
    "\n",
    "import time"
   ]
  },
  {
   "cell_type": "markdown",
   "metadata": {},
   "source": [
    "# Metrics Learning \n",
    "\n",
    "**Group Members: Oskar Hint , Xiaoshen Hou,  Kasper Schønberg,  Valentine Van Der Nya**\n",
    "\n",
    "\n"
   ]
  },
  {
   "cell_type": "markdown",
   "metadata": {},
   "source": [
    "***\n",
    "## Tuning hyper-parameters"
   ]
  },
  {
   "cell_type": "code",
   "execution_count": 7,
   "metadata": {
    "collapsed": true
   },
   "outputs": [],
   "source": [
    "###Benchmark Grid Search Hyperparameters K, omega1,2, 3 #############\n",
    "K=[1,2,3,4,5,6,7,8,9,10]\n",
    "omega0= np.arange(0.1,1,0.1)\n",
    "omega1= np.arange(0.1,1,0.1)\n",
    "omega2= np.arange(0.1,1,0.1)\n",
    "\n",
    "lmnn_param_grid = {'n_neighbors': K, 'omega': omega0}\n",
    "ssc_param_grid = {'n_neighbors': K, 'omega0': omega0,'omega1': omega1,'omega2': omega2}\n"
   ]
  },
  {
   "cell_type": "code",
   "execution_count": 8,
   "metadata": {},
   "outputs": [
    {
     "data": {
      "text/plain": [
       "{'n_neighbors': [1, 2, 3, 4, 5, 6, 7, 8, 9, 10],\n",
       " 'omega0': array([ 0.1,  0.2,  0.3,  0.4,  0.5,  0.6,  0.7,  0.8,  0.9]),\n",
       " 'omega1': array([ 0.1,  0.2,  0.3,  0.4,  0.5,  0.6,  0.7,  0.8,  0.9]),\n",
       " 'omega2': array([ 0.1,  0.2,  0.3,  0.4,  0.5,  0.6,  0.7,  0.8,  0.9])}"
      ]
     },
     "execution_count": 8,
     "metadata": {},
     "output_type": "execute_result"
    }
   ],
   "source": [
    "param_grid"
   ]
  },
  {
   "cell_type": "markdown",
   "metadata": {},
   "source": [
    "***\n",
    "## 1.  Experinment 1 - USPS data "
   ]
  },
  {
   "cell_type": "code",
   "execution_count": 10,
   "metadata": {},
   "outputs": [],
   "source": [
    "def get_USPS_training_data():\n",
    "    data = load_svmlight_file('ml_data/usps/usps')\n",
    "    return data[0], data[1]\n",
    "\n",
    "def get_USPS_testing_data():\n",
    "    data = load_svmlight_file('ml_data/usps/usps.t')\n",
    "    return data[0], data[1]\n",
    "\n",
    "X_train, y_train = get_USPS_training_data()\n",
    "X_test, y_test = get_USPS_testing_data()"
   ]
  },
  {
   "cell_type": "code",
   "execution_count": 11,
   "metadata": {},
   "outputs": [],
   "source": [
    "######## Sample label, unlabel set  from training #########\n",
    "X_train=np.asarray(X_train.todense())\n",
    "y_train=np.asarray(y_train)\n",
    "X_test=np.asarray(X_test.todense())\n",
    "y_test=np.asarray(y_test)\n",
    "\n",
    "sample_inds=np.random.randint(X_train.shape[0], size=200)\n",
    "X_train_labelled=X_train[sample_inds, :]\n",
    "y_train_labelled=y_train[sample_inds]\n",
    "\n",
    "new_X_train = np.delete(X_train, sample_inds,0)\n",
    "new_y_train = np.delete(y_train, sample_inds,0)\n",
    "\n",
    "sample_inds=np.random.randint(new_X_train.shape[0], size=4000)\n",
    "X_train_unlabelled=new_X_train[sample_inds, :]\n",
    "\n"
   ]
  },
  {
   "cell_type": "code",
   "execution_count": 22,
   "metadata": {},
   "outputs": [
    {
     "name": "stdout",
     "output_type": "stream",
     "text": [
      "LMNN Best parameters set found on development set:\n",
      "\n",
      "{'n_neighbors': 1, 'omega': 0.20000000000000001}\n",
      "\n",
      "Grid scores on development set:\n",
      "\n",
      "0.885 (+/-0.068) for {'n_neighbors': 1, 'omega': 0.10000000000000001}\n",
      "0.890 (+/-0.080) for {'n_neighbors': 1, 'omega': 0.20000000000000001}\n",
      "0.885 (+/-0.068) for {'n_neighbors': 1, 'omega': 0.30000000000000004}\n",
      "0.885 (+/-0.068) for {'n_neighbors': 1, 'omega': 0.40000000000000002}\n",
      "0.890 (+/-0.080) for {'n_neighbors': 1, 'omega': 0.5}\n",
      "0.890 (+/-0.080) for {'n_neighbors': 1, 'omega': 0.59999999999999998}\n",
      "0.880 (+/-0.090) for {'n_neighbors': 1, 'omega': 0.70000000000000007}\n",
      "0.880 (+/-0.084) for {'n_neighbors': 1, 'omega': 0.80000000000000004}\n",
      "0.880 (+/-0.084) for {'n_neighbors': 1, 'omega': 0.90000000000000002}\n",
      "0.850 (+/-0.065) for {'n_neighbors': 2, 'omega': 0.10000000000000001}\n",
      "0.845 (+/-0.063) for {'n_neighbors': 2, 'omega': 0.20000000000000001}\n",
      "0.845 (+/-0.070) for {'n_neighbors': 2, 'omega': 0.30000000000000004}\n",
      "0.840 (+/-0.067) for {'n_neighbors': 2, 'omega': 0.40000000000000002}\n",
      "0.835 (+/-0.087) for {'n_neighbors': 2, 'omega': 0.5}\n",
      "0.840 (+/-0.093) for {'n_neighbors': 2, 'omega': 0.59999999999999998}\n",
      "0.820 (+/-0.118) for {'n_neighbors': 2, 'omega': 0.70000000000000007}\n",
      "0.825 (+/-0.102) for {'n_neighbors': 2, 'omega': 0.80000000000000004}\n",
      "0.825 (+/-0.073) for {'n_neighbors': 2, 'omega': 0.90000000000000002}\n",
      "0.870 (+/-0.107) for {'n_neighbors': 3, 'omega': 0.10000000000000001}\n",
      "0.865 (+/-0.101) for {'n_neighbors': 3, 'omega': 0.20000000000000001}\n",
      "0.860 (+/-0.098) for {'n_neighbors': 3, 'omega': 0.30000000000000004}\n",
      "0.860 (+/-0.068) for {'n_neighbors': 3, 'omega': 0.40000000000000002}\n",
      "0.855 (+/-0.070) for {'n_neighbors': 3, 'omega': 0.5}\n",
      "0.845 (+/-0.079) for {'n_neighbors': 3, 'omega': 0.59999999999999998}\n",
      "0.825 (+/-0.101) for {'n_neighbors': 3, 'omega': 0.70000000000000007}\n",
      "0.820 (+/-0.114) for {'n_neighbors': 3, 'omega': 0.80000000000000004}\n",
      "0.830 (+/-0.108) for {'n_neighbors': 3, 'omega': 0.90000000000000002}\n",
      "0.860 (+/-0.103) for {'n_neighbors': 4, 'omega': 0.10000000000000001}\n",
      "0.845 (+/-0.121) for {'n_neighbors': 4, 'omega': 0.20000000000000001}\n",
      "0.845 (+/-0.114) for {'n_neighbors': 4, 'omega': 0.30000000000000004}\n",
      "0.845 (+/-0.089) for {'n_neighbors': 4, 'omega': 0.40000000000000002}\n",
      "0.850 (+/-0.112) for {'n_neighbors': 4, 'omega': 0.5}\n",
      "0.840 (+/-0.102) for {'n_neighbors': 4, 'omega': 0.59999999999999998}\n",
      "0.820 (+/-0.127) for {'n_neighbors': 4, 'omega': 0.70000000000000007}\n",
      "0.805 (+/-0.137) for {'n_neighbors': 4, 'omega': 0.80000000000000004}\n",
      "0.815 (+/-0.136) for {'n_neighbors': 4, 'omega': 0.90000000000000002}\n",
      "0.820 (+/-0.140) for {'n_neighbors': 5, 'omega': 0.10000000000000001}\n",
      "0.845 (+/-0.108) for {'n_neighbors': 5, 'omega': 0.20000000000000001}\n",
      "0.835 (+/-0.146) for {'n_neighbors': 5, 'omega': 0.30000000000000004}\n",
      "0.840 (+/-0.137) for {'n_neighbors': 5, 'omega': 0.40000000000000002}\n",
      "0.845 (+/-0.139) for {'n_neighbors': 5, 'omega': 0.5}\n",
      "0.865 (+/-0.092) for {'n_neighbors': 5, 'omega': 0.59999999999999998}\n",
      "0.840 (+/-0.134) for {'n_neighbors': 5, 'omega': 0.70000000000000007}\n",
      "0.820 (+/-0.114) for {'n_neighbors': 5, 'omega': 0.80000000000000004}\n",
      "0.835 (+/-0.092) for {'n_neighbors': 5, 'omega': 0.90000000000000002}\n",
      "0.830 (+/-0.105) for {'n_neighbors': 6, 'omega': 0.10000000000000001}\n",
      "0.820 (+/-0.109) for {'n_neighbors': 6, 'omega': 0.20000000000000001}\n",
      "0.830 (+/-0.105) for {'n_neighbors': 6, 'omega': 0.30000000000000004}\n",
      "0.830 (+/-0.105) for {'n_neighbors': 6, 'omega': 0.40000000000000002}\n",
      "0.830 (+/-0.126) for {'n_neighbors': 6, 'omega': 0.5}\n",
      "0.845 (+/-0.108) for {'n_neighbors': 6, 'omega': 0.59999999999999998}\n",
      "0.815 (+/-0.114) for {'n_neighbors': 6, 'omega': 0.70000000000000007}\n",
      "0.820 (+/-0.118) for {'n_neighbors': 6, 'omega': 0.80000000000000004}\n",
      "0.825 (+/-0.088) for {'n_neighbors': 6, 'omega': 0.90000000000000002}\n",
      "0.820 (+/-0.126) for {'n_neighbors': 7, 'omega': 0.10000000000000001}\n",
      "0.820 (+/-0.126) for {'n_neighbors': 7, 'omega': 0.20000000000000001}\n",
      "0.820 (+/-0.126) for {'n_neighbors': 7, 'omega': 0.30000000000000004}\n",
      "0.815 (+/-0.113) for {'n_neighbors': 7, 'omega': 0.40000000000000002}\n",
      "0.830 (+/-0.126) for {'n_neighbors': 7, 'omega': 0.5}\n",
      "0.835 (+/-0.129) for {'n_neighbors': 7, 'omega': 0.59999999999999998}\n",
      "0.820 (+/-0.130) for {'n_neighbors': 7, 'omega': 0.70000000000000007}\n",
      "0.835 (+/-0.129) for {'n_neighbors': 7, 'omega': 0.80000000000000004}\n",
      "0.825 (+/-0.097) for {'n_neighbors': 7, 'omega': 0.90000000000000002}\n",
      "0.810 (+/-0.083) for {'n_neighbors': 8, 'omega': 0.10000000000000001}\n",
      "0.800 (+/-0.066) for {'n_neighbors': 8, 'omega': 0.20000000000000001}\n",
      "0.805 (+/-0.072) for {'n_neighbors': 8, 'omega': 0.30000000000000004}\n",
      "0.805 (+/-0.076) for {'n_neighbors': 8, 'omega': 0.40000000000000002}\n",
      "0.815 (+/-0.093) for {'n_neighbors': 8, 'omega': 0.5}\n",
      "0.810 (+/-0.126) for {'n_neighbors': 8, 'omega': 0.59999999999999998}\n",
      "0.795 (+/-0.136) for {'n_neighbors': 8, 'omega': 0.70000000000000007}\n",
      "0.790 (+/-0.126) for {'n_neighbors': 8, 'omega': 0.80000000000000004}\n",
      "0.805 (+/-0.083) for {'n_neighbors': 8, 'omega': 0.90000000000000002}\n",
      "0.805 (+/-0.076) for {'n_neighbors': 9, 'omega': 0.10000000000000001}\n",
      "0.805 (+/-0.062) for {'n_neighbors': 9, 'omega': 0.20000000000000001}\n",
      "0.795 (+/-0.061) for {'n_neighbors': 9, 'omega': 0.30000000000000004}\n",
      "0.795 (+/-0.061) for {'n_neighbors': 9, 'omega': 0.40000000000000002}\n",
      "0.790 (+/-0.066) for {'n_neighbors': 9, 'omega': 0.5}\n",
      "0.790 (+/-0.133) for {'n_neighbors': 9, 'omega': 0.59999999999999998}\n",
      "0.800 (+/-0.117) for {'n_neighbors': 9, 'omega': 0.70000000000000007}\n",
      "0.800 (+/-0.112) for {'n_neighbors': 9, 'omega': 0.80000000000000004}\n",
      "0.800 (+/-0.090) for {'n_neighbors': 9, 'omega': 0.90000000000000002}\n",
      "0.795 (+/-0.100) for {'n_neighbors': 10, 'omega': 0.10000000000000001}\n",
      "0.795 (+/-0.115) for {'n_neighbors': 10, 'omega': 0.20000000000000001}\n",
      "0.805 (+/-0.082) for {'n_neighbors': 10, 'omega': 0.30000000000000004}\n",
      "0.805 (+/-0.082) for {'n_neighbors': 10, 'omega': 0.40000000000000002}\n",
      "0.780 (+/-0.061) for {'n_neighbors': 10, 'omega': 0.5}\n",
      "0.780 (+/-0.105) for {'n_neighbors': 10, 'omega': 0.59999999999999998}\n",
      "0.795 (+/-0.092) for {'n_neighbors': 10, 'omega': 0.70000000000000007}\n",
      "0.775 (+/-0.093) for {'n_neighbors': 10, 'omega': 0.80000000000000004}\n",
      "0.790 (+/-0.068) for {'n_neighbors': 10, 'omega': 0.90000000000000002}\n",
      "\n",
      "Detailed classification report:\n",
      "\n",
      "The model is trained on the full development set.\n",
      "The scores are computed on the full evaluation set.\n",
      "\n",
      "             precision    recall  f1-score   support\n",
      "\n",
      "        1.0       0.88      0.97      0.92       359\n",
      "        2.0       0.87      0.97      0.92       264\n",
      "        3.0       0.88      0.83      0.85       198\n",
      "        4.0       0.78      0.81      0.80       166\n",
      "        5.0       0.90      0.60      0.72       200\n",
      "        6.0       0.85      0.72      0.78       160\n",
      "        7.0       0.86      0.89      0.88       170\n",
      "        8.0       0.79      0.84      0.82       147\n",
      "        9.0       0.79      0.70      0.74       166\n",
      "       10.0       0.73      0.85      0.79       177\n",
      "\n",
      "avg / total       0.84      0.84      0.84      2007\n",
      "\n",
      "\n"
     ]
    }
   ],
   "source": [
    "##### LMNN TUNNING ########\n",
    "clf = GridSearchCV(LargeMarginNearestNeighbor(), lmnn_param_grid, cv=5)\n",
    "clf.fit(X_train_labelled, y_train_labelled)\n",
    "\n",
    "print(\"LMNN Best parameters set found on development set:\")\n",
    "print()\n",
    "print(clf.best_params_)\n",
    "print()\n",
    "print(\"Grid scores on development set:\")\n",
    "print()\n",
    "means = clf.cv_results_['mean_test_score']\n",
    "stds = clf.cv_results_['std_test_score']\n",
    "for mean, std, params in zip(means, stds, clf.cv_results_['params']):\n",
    "    print(\"%0.3f (+/-%0.03f) for %r\"\n",
    "          % (mean, std * 2, params))\n",
    "print()\n",
    "\n",
    "print(\"Detailed classification report:\")\n",
    "print()\n",
    "print(\"The model is trained on the full development set.\")\n",
    "print(\"The scores are computed on the full evaluation set.\")\n",
    "print()\n",
    "y_true, y_pred = y_test, clf.predict(X_test)\n",
    "print(classification_report(y_true, y_pred))\n",
    "print()"
   ]
  },
  {
   "cell_type": "code",
   "execution_count": 38,
   "metadata": {
    "scrolled": true
   },
   "outputs": [
    {
     "name": "stdout",
     "output_type": "stream",
     "text": [
      "########  Labelled =  (200, 256)   ###  Unlabelled =  (4000, 256) ###########\n",
      "########  K =  1  ###########\n",
      "USPS LMNN :  0.842551071251\n",
      "USPS SSC :  0.838066766318\n",
      "USPS KNN :  0.838066766318\n",
      "########  K =  2  ###########\n",
      "USPS LMNN :  0.828599900349\n",
      "USPS SSC :  0.837568510214\n",
      "USPS KNN :  0.827603388142\n",
      "########  K =  3  ###########\n",
      "USPS LMNN :  0.808669656203\n",
      "USPS SSC :  0.809666168411\n",
      "USPS KNN :  0.823119083209\n",
      "########  K =  4  ###########\n",
      "USPS LMNN :  0.831091180867\n",
      "USPS SSC :  0.819631290483\n",
      "USPS KNN :  0.825610363727\n",
      "########  K =  5  ###########\n",
      "USPS LMNN :  0.810164424514\n",
      "USPS SSC :  0.803188839063\n",
      "USPS KNN :  0.814150473343\n",
      "########  K =  6  ###########\n",
      "USPS LMNN :  0.800697558545\n",
      "USPS SSC :  0.798206278027\n",
      "USPS KNN :  0.809167912307\n",
      "########  K =  7  ###########\n",
      "USPS LMNN :  0.77130044843\n",
      "USPS SSC :  0.788739412058\n",
      "USPS KNN :  0.798206278027\n",
      "########  K =  8  ###########\n",
      "USPS LMNN :  0.746885899352\n",
      "USPS SSC :  0.761833582461\n",
      "USPS KNN :  0.794220229198\n",
      "########  K =  9  ###########\n",
      "USPS LMNN :  0.732436472347\n",
      "USPS SSC :  0.708021923269\n",
      "USPS KNN :  0.781763826607\n",
      "########  K =  10  ###########\n",
      "USPS LMNN :  0.750373692078\n",
      "USPS SSC :  0.759342301943\n",
      "USPS KNN :  0.779770802192\n"
     ]
    }
   ],
   "source": [
    "print(\"########  Labelled = \",X_train_labelled.shape, \"  ###  Unlabelled = \", X_train_unlabelled.shape, \"###########\")\n",
    "for k in K:\n",
    "    print(\"########  K = \",k, \" ###########\")\n",
    "    lmnn = LargeMarginNearestNeighbor(n_neighbors=k)\n",
    "    lmnn.fit(X_train_labelled,y_train_labelled)\n",
    "    print(\"USPS LMNN : \", lmnn.score(X_test,y_test))\n",
    "\n",
    "    ssc = SemiSupervisedLargeMarginNearestNeighbor(n_neighbors=k)\n",
    "    ssc.fit(X_train_labelled,X_train_unlabelled, y_train_labelled)\n",
    "    print(\"USPS SSC : \", ssc.score(X_test,y_test))\n",
    "    \n",
    "    neigh = KNeighborsClassifier(n_neighbors=k)\n",
    "    neigh.fit(X_train_labelled,y_train_labelled)\n",
    "    print(\"USPS KNN : \",  neigh.score(X_test,y_test))"
   ]
  },
  {
   "cell_type": "markdown",
   "metadata": {},
   "source": [
    "***\n",
    "## 2.  Experinment 2 - MNIST data "
   ]
  },
  {
   "cell_type": "code",
   "execution_count": null,
   "metadata": {
    "collapsed": true
   },
   "outputs": [],
   "source": [
    "mnist = fetch_mldata('MNIST original', data_home='ml_data/mnist')  #Download MMNIST"
   ]
  },
  {
   "cell_type": "code",
   "execution_count": null,
   "metadata": {
    "collapsed": true
   },
   "outputs": [],
   "source": [
    "X, y = mnist.data, mnist.target\n",
    "X_train, X_test, y_train, y_test = train_test_split(X, y, test_size=0.5, random_state=42)"
   ]
  },
  {
   "cell_type": "code",
   "execution_count": null,
   "metadata": {
    "collapsed": true
   },
   "outputs": [],
   "source": [
    "######## Sample label, unlabel set  from training #########\n",
    "X_train=np.asarray(X_train)\n",
    "y_train=np.asarray(y_train)\n",
    "X_test=np.asarray(X_test)\n",
    "y_test=np.asarray(y_test)\n",
    "\n",
    "sample_inds=np.random.randint(X_train.shape[0], size=200)\n",
    "X_train_labelled=X_train[sample_inds, :]\n",
    "y_train_labelled=y_train[sample_inds]\n",
    "\n",
    "new_X_train = np.delete(X_train, sample_inds,0)\n",
    "new_y_train = np.delete(y_train, sample_inds,0)\n",
    "\n",
    "sample_inds=np.random.randint(new_X_train.shape[0], size=4000)\n",
    "X_train_unlabelled=new_X_train[sample_inds, :]"
   ]
  },
  {
   "cell_type": "code",
   "execution_count": null,
   "metadata": {
    "collapsed": true
   },
   "outputs": [],
   "source": [
    "K=[1,2,3,4,5,6,7,8,9,10]\n",
    "for k in K:\n",
    "    print(\"########  K = \",k, \" ###########\")\n",
    "    lmnn = LargeMarginNearestNeighbor(n_neighbors=k)\n",
    "    lmnn.fit(X_train[0:200,],y_train[0:200])\n",
    "    print(\"MNIST LMNN : \", lmnn.score(X_test,y_test))\n",
    "\n",
    "    ssc = SemiSupervisedLargeMarginNearestNeighbor(n_neighbors=k)\n",
    "    ssc.fit(X_train[0:200,],X_train[201:600,], y_train[0:200,])\n",
    "    print(\"MNIST SSC : \", ssc.score(X_test.todense(),y_test))\n",
    "    \n",
    "    neigh = KNeighborsClassifier(n_neighbors=k)\n",
    "    neigh.fit(X_train[0:200,],y_train[0:200,])\n",
    "    print(\"MNIST KNN : \", neigh.score(X_test,y_test))"
   ]
  },
  {
   "cell_type": "markdown",
   "metadata": {},
   "source": [
    "## 3. Experiment - Semi-supervised Iris"
   ]
  },
  {
   "cell_type": "code",
   "execution_count": null,
   "metadata": {
    "collapsed": true
   },
   "outputs": [],
   "source": [
    "dataset = load_iris()\n",
    "X, y = dataset.data, dataset.target\n",
    "\n",
    "# 25 points in labeled, 50 in unlabeled, 75 in test\n",
    "X_train, X_test, y_train, y_test = train_test_split(X, y, test_size=0.5, random_state=42)\n",
    "X_labeled = np.delete(X_train, range(50), 0)\n",
    "y_labeled = np.delete(y_train, range(50))\n",
    "X_unlabeled = np.delete(X_train, range(50,75), 0)"
   ]
  },
  {
   "cell_type": "code",
   "execution_count": null,
   "metadata": {
    "collapsed": true
   },
   "outputs": [],
   "source": [
    "K=[1,2,3,4,5,6,7,8,9,10]\n",
    "for k in K:\n",
    "    print(\"########  K = \",k, \" ###########\")\n",
    "    time1 = time.time()\n",
    "    ssc = SemiSupervisedLargeMarginNearestNeighbor(n_neighbors=k)\n",
    "    ssc.fit(X_labeled, X_unlabeled, y_labeled)\n",
    "    time2 = time.time()\n",
    "    print(\"Iris SSC : \", ssc.score(y_test, ssc.predict(X_test)), \" Time(s) :\", (time2-time1))\n",
    "   \n",
    "    neigh = KNeighborsClassifier(n_neighbors=k)\n",
    "    neigh.fit(X_train,y_train)\n",
    "    print(\"Iris KNN : \", neigh.score(X_test,y_test))"
   ]
  }
 ],
 "metadata": {
  "anaconda-cloud": {},
  "kernelspec": {
   "display_name": "Python 3",
   "language": "python",
   "name": "python3"
  },
  "language_info": {
   "codemirror_mode": {
    "name": "ipython",
    "version": 3
   },
   "file_extension": ".py",
   "mimetype": "text/x-python",
   "name": "python",
   "nbconvert_exporter": "python",
   "pygments_lexer": "ipython3",
   "version": "3.6.2"
  }
 },
 "nbformat": 4,
 "nbformat_minor": 2
}
