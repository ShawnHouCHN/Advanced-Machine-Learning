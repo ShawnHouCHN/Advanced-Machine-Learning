{
 "cells": [
  {
   "cell_type": "code",
   "execution_count": 1,
   "metadata": {
    "collapsed": true
   },
   "outputs": [],
   "source": [
    "from numpy.linalg import norm\n",
    "import numpy as np\n",
    "from scipy import sparse\n",
    "from matplotlib import pyplot as plt\n",
    "from scipy import optimize\n",
    "from scipy.sparse import csr_matrix\n",
    "from scipy.optimize import minimize\n",
    "from sklearn.datasets import load_iris\n",
    "from sklearn.datasets import load_svmlight_file\n",
    "from sklearn.neighbors import KNeighborsClassifier\n",
    "from sklearn.model_selection import cross_val_score\n",
    "from sklearn.metrics.pairwise import euclidean_distances\n",
    "from sklearn.utils.validation import check_is_fitted, check_array, check_X_y, check_random_state\n",
    "from sklearn.model_selection import train_test_split\n",
    "from sklearn.datasets import fetch_mldata\n",
    "\n",
    "from LMNN import LargeMarginNearestNeighbor\n",
    "from LMNN_SS import SemiSupervisedLargeMarginNearestNeighbor\n",
    "\n",
    "import time"
   ]
  },
  {
   "cell_type": "markdown",
   "metadata": {},
   "source": [
    "# Metrics Learning \n",
    "\n",
    "**Group Members: Oskar Hint , Xiaoshen Hou,  Kasper Schønberg,  Valentine Van Der Nya**\n",
    "\n",
    "***\n",
    "## 0.  Experinment 0 - Iris data \n"
   ]
  },
  {
   "cell_type": "code",
   "execution_count": null,
   "metadata": {},
   "outputs": [],
   "source": [
    "# data\n",
    "dataset = load_iris()\n",
    "X, y = dataset.data, dataset.target\n",
    "\n",
    "# 25 points in labeled, 50 in unlabeled, 75 in test\n",
    "X_train, X_test, y_train, y_test = train_test_split(X, y, test_size=0.667, random_state=42)\n",
    "X_labeled = np.delete(X_train, range(30), 0)\n",
    "y_labeled = np.delete(y_train, range(30))\n",
    "X_unlabeled = np.delete(X_train, range(20,49), 0)"
   ]
  },
  {
   "cell_type": "code",
   "execution_count": null,
   "metadata": {
    "scrolled": false
   },
   "outputs": [],
   "source": [
    "K=[1,2,3,4,5,6,7,8,9,10]\n",
    "for k in K:\n",
    "    print(\"########  K = \",k, \" ###########\")\n",
    "    time1 = time.time()\n",
    "    lmnn = LargeMarginNearestNeighbor(n_neighbors=k)\n",
    "    lmnn.fit(X_labeled,y_labeled)\n",
    "    time2 = time.time()\n",
    "    print(\"Iris LMNN : \", lmnn.score(X_test,y_test), \" Time(s) :\", (time2-time1))\n",
    "   \n",
    "    time1 = time.time()\n",
    "    ssc = SemiSupervisedLargeMarginNearestNeighbor(n_neighbors=k)\n",
    "    ssc.fit(X_labeled, X_unlabeled, y_labeled)\n",
    "    time2 = time.time()\n",
    "    print(\"Iris SSC : \", ssc.score(X_test, y_test), \" Time(s) :\", (time2-time1))    \n",
    "\n",
    "    neigh = KNeighborsClassifier(n_neighbors=k)\n",
    "    neigh.fit(X_labeled,y_labeled)\n",
    "    print(\"Iris KNN : \", neigh.score(X_test,y_test))"
   ]
  },
  {
   "cell_type": "markdown",
   "metadata": {},
   "source": [
    "***\n",
    "## 1.  Experinment 1 - USPS data "
   ]
  },
  {
   "cell_type": "code",
   "execution_count": 2,
   "metadata": {
    "collapsed": true
   },
   "outputs": [],
   "source": [
    "def get_USPS_training_data():\n",
    "    data = load_svmlight_file('ml_data/usps/usps')\n",
    "    return data[0], data[1]\n",
    "\n",
    "def get_USPS_testing_data():\n",
    "    data = load_svmlight_file('ml_data/usps/usps.t')\n",
    "    return data[0], data[1]\n",
    "\n",
    "X_train, y_train = get_USPS_training_data()\n",
    "X_test, y_test = get_USPS_testing_data()"
   ]
  },
  {
   "cell_type": "code",
   "execution_count": 4,
   "metadata": {
    "scrolled": true
   },
   "outputs": [
    {
     "name": "stdout",
     "output_type": "stream",
     "text": [
      "########  K =  1  ###########\n",
      "USPS LMNN :  0.762331838565\n",
      "USPS SSC :  0.762331838565\n",
      "USPS KNN :  0.762331838565\n",
      "########  K =  2  ###########\n",
      "USPS LMNN :  0.70004982561\n",
      "USPS SSC :  0.726955655207\n",
      "USPS KNN :  0.712506228201\n",
      "########  K =  3  ###########\n",
      "USPS LMNN :  0.71649227703\n",
      "USPS SSC :  0.719481813652\n",
      "USPS KNN :  0.69456900847\n",
      "########  K =  4  ###########\n",
      "USPS LMNN :  0.660189337319\n",
      "USPS SSC :  0.689586447434\n",
      "USPS KNN :  0.68360737419\n",
      "########  K =  5  ###########\n",
      "USPS LMNN :  0.629297458894\n",
      "USPS SSC :  0.666168410563\n",
      "USPS KNN :  0.686098654709\n",
      "########  K =  6  ###########\n",
      "USPS LMNN :  0.607872446437\n",
      "USPS SSC :  0.66168410563\n",
      "USPS KNN :  0.675635276532\n",
      "########  K =  7  ###########\n",
      "USPS LMNN :  0.588938714499\n",
      "USPS SSC :  0.62879920279\n",
      "USPS KNN :  0.668659691081\n",
      "########  K =  8  ###########\n",
      "USPS LMNN :  0.58495266567\n",
      "USPS SSC :  0.596910812157\n",
      "USPS KNN :  0.651718983558\n",
      "########  K =  9  ###########\n",
      "USPS LMNN :  0.581464872945\n",
      "USPS SSC :  0.606377678127\n",
      "USPS KNN :  0.65620328849\n",
      "########  K =  10  ###########\n",
      "USPS LMNN :  0.600896860987\n",
      "USPS SSC :  0.594419531639\n",
      "USPS KNN :  0.632286995516\n"
     ]
    }
   ],
   "source": [
    "K=[1,2,3,4,5,6,7,8,9,10]\n",
    "for k in K:\n",
    "    print(\"########  K = \",k, \" ###########\")\n",
    "    lmnn = LargeMarginNearestNeighbor(n_neighbors=k)\n",
    "    lmnn.fit(X_train[0:100,].todense(),y_train[0:100,])\n",
    "    print(\"USPS LMNN : \", lmnn.score(X_test.todense(),y_test))\n",
    "\n",
    "    ssc = SemiSupervisedLargeMarginNearestNeighbor(n_neighbors=k)\n",
    "    ssc.fit(X_train[0:100,].todense(),X_train[101:600,].todense(), y_train[0:100,])\n",
    "    print(\"USPS SSC : \", ssc.score(X_test.todense(),y_test))\n",
    "    \n",
    "    neigh = KNeighborsClassifier(n_neighbors=k)\n",
    "    neigh.fit(X_train[0:100,].todense(),y_train[0:100,])\n",
    "    print(\"USPS KNN : \",  neigh.score(X_test.todense(),y_test))"
   ]
  },
  {
   "cell_type": "markdown",
   "metadata": {},
   "source": [
    "***\n",
    "## 2.  Experinment 2 - MNIST data "
   ]
  },
  {
   "cell_type": "code",
   "execution_count": null,
   "metadata": {
    "collapsed": true
   },
   "outputs": [],
   "source": [
    "def get_MNIST_training_data():\n",
    "    data = load_svmlight_file('ml_data/mnist/mnist')\n",
    "    return data[0], data[1]\n",
    "\n",
    "def get_MNIST_testing_data():\n",
    "    data = load_svmlight_file('ml_data/mnist/mnist.t')\n",
    "    return data[0], data[1]\n",
    "\n",
    "X_train, y_train = get_MNIST_training_data()\n",
    "X_test, y_test = get_MNIST_testing_data()"
   ]
  },
  {
   "cell_type": "code",
   "execution_count": null,
   "metadata": {
    "collapsed": true
   },
   "outputs": [],
   "source": [
    "mnist = fetch_mldata('MNIST original', data_home='ml_data/mnist')  #Download MMNIST"
   ]
  },
  {
   "cell_type": "code",
   "execution_count": null,
   "metadata": {
    "collapsed": true
   },
   "outputs": [],
   "source": [
    "X, y = mnist.data, mnist.target\n",
    "X_train, X_test, y_train, y_test = train_test_split(X, y, test_size=0.99, random_state=42)"
   ]
  },
  {
   "cell_type": "code",
   "execution_count": null,
   "metadata": {},
   "outputs": [],
   "source": [
    "K=[1,2,3,4,5,6,7,8,9,10]\n",
    "for k in K:\n",
    "    print(\"########  K = \",k, \" ###########\")\n",
    "    lmnn = LargeMarginNearestNeighbor(n_neighbors=k)\n",
    "    lmnn.fit(X_train[0:200,],y_train[0:200])\n",
    "    print(\"MNIST LMNN : \", lmnn.score(X_test,y_test))\n",
    "\n",
    "    ssc = SemiSupervisedLargeMarginNearestNeighbor(n_neighbors=k)\n",
    "    ssc.fit(X_train[0:200,],X_train[201:600,], y_train[0:200,])\n",
    "    print(\"MNIST SSC : \", ssc.score(X_test.todense(),y_test))\n",
    "    \n",
    "    neigh = KNeighborsClassifier(n_neighbors=k)\n",
    "    neigh.fit(X_train[0:200,],y_train[0:200,])\n",
    "    print(\"MNIST KNN : \", neigh.score(X_test,y_test))"
   ]
  },
  {
   "cell_type": "markdown",
   "metadata": {},
   "source": [
    "## 3. Experiment - Semi-supervised Iris"
   ]
  },
  {
   "cell_type": "code",
   "execution_count": null,
   "metadata": {
    "collapsed": true
   },
   "outputs": [],
   "source": [
    "dataset = load_iris()\n",
    "X, y = dataset.data, dataset.target\n",
    "\n",
    "# 25 points in labeled, 50 in unlabeled, 75 in test\n",
    "X_train, X_test, y_train, y_test = train_test_split(X, y, test_size=0.5, random_state=42)\n",
    "X_labeled = np.delete(X_train, range(50), 0)\n",
    "y_labeled = np.delete(y_train, range(50))\n",
    "X_unlabeled = np.delete(X_train, range(50,75), 0)"
   ]
  },
  {
   "cell_type": "code",
   "execution_count": null,
   "metadata": {},
   "outputs": [],
   "source": [
    "K=[1,2,3,4,5,6,7,8,9,10]\n",
    "for k in K:\n",
    "    print(\"########  K = \",k, \" ###########\")\n",
    "    time1 = time.time()\n",
    "    ssc = SemiSupervisedLargeMarginNearestNeighbor(n_neighbors=k)\n",
    "    ssc.fit(X_labeled, X_unlabeled, y_labeled)\n",
    "    time2 = time.time()\n",
    "    print(\"Iris SSC : \", ssc.score(y_test, ssc.predict(X_test)), \" Time(s) :\", (time2-time1))\n",
    "   \n",
    "    neigh = KNeighborsClassifier(n_neighbors=k)\n",
    "    neigh.fit(X_train,y_train)\n",
    "    print(\"Iris KNN : \", neigh.score(X_test,y_test))"
   ]
  }
 ],
 "metadata": {
  "anaconda-cloud": {},
  "kernelspec": {
   "display_name": "Python 3",
   "language": "python",
   "name": "python3"
  },
  "language_info": {
   "codemirror_mode": {
    "name": "ipython",
    "version": 3
   },
   "file_extension": ".py",
   "mimetype": "text/x-python",
   "name": "python",
   "nbconvert_exporter": "python",
   "pygments_lexer": "ipython3",
   "version": "3.6.2"
  }
 },
 "nbformat": 4,
 "nbformat_minor": 2
}
