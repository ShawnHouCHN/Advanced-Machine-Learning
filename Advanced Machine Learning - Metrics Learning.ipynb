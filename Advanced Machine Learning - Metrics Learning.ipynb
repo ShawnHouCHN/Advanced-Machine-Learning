{
 "cells": [
  {
   "cell_type": "code",
   "execution_count": 2,
   "metadata": {},
   "outputs": [],
   "source": [
    "from numpy.linalg import norm\n",
    "import numpy as np\n",
    "from scipy import sparse\n",
    "from matplotlib import pyplot as plt\n",
    "from scipy import optimize\n",
    "from scipy.sparse import csr_matrix\n",
    "from scipy.optimize import minimize\n",
    "from sklearn.datasets import load_iris\n",
    "from sklearn.datasets import load_svmlight_file\n",
    "from sklearn.neighbors import KNeighborsClassifier\n",
    "from sklearn.model_selection import cross_val_score\n",
    "from sklearn.metrics.pairwise import euclidean_distances\n",
    "from sklearn.utils.validation import check_is_fitted, check_array, check_X_y, check_random_state\n",
    "from sklearn.model_selection import train_test_split\n",
    "from sklearn.datasets import fetch_mldata\n",
    "from LMNN import LargeMarginNearestNeighbor\n",
    "import time"
   ]
  },
  {
   "cell_type": "markdown",
   "metadata": {},
   "source": [
    "# Metrics Learning \n",
    "\n",
    "**Group Members: Oskar Hint , Xiaoshen Hou,  Kasper Schønberg,  Valentine Van Der Nya**\n",
    "\n",
    "***\n",
    "## 0.  Experinment 0 - Iris data \n"
   ]
  },
  {
   "cell_type": "code",
   "execution_count": 2,
   "metadata": {},
   "outputs": [],
   "source": [
    "# data\n",
    "dataset = load_iris()\n",
    "X, y = dataset.data, dataset.target\n",
    "\n",
    "X_train, X_test, y_train, y_test = train_test_split(X, y, test_size=0.7, random_state=42)"
   ]
  },
  {
   "cell_type": "code",
   "execution_count": 3,
   "metadata": {
    "scrolled": false
   },
   "outputs": [
    {
     "name": "stdout",
     "output_type": "stream",
     "text": [
      "########  K =  1  ###########\n",
      "Iris LMNN :  0.9619047619047619  Time(s) : 0.06947612762451172\n",
      "Iris KNN :  0.9619047619047619\n",
      "########  K =  2  ###########\n",
      "Iris LMNN :  0.9809523809523809  Time(s) : 0.07652544975280762\n",
      "Iris KNN :  0.9523809523809523\n",
      "########  K =  3  ###########\n",
      "Iris LMNN :  0.9714285714285714  Time(s) : 0.40683579444885254\n",
      "Iris KNN :  0.9714285714285714\n",
      "########  K =  4  ###########\n",
      "Iris LMNN :  0.9809523809523809  Time(s) : 0.3188917636871338\n",
      "Iris KNN :  0.9428571428571428\n",
      "########  K =  5  ###########\n",
      "Iris LMNN :  0.9714285714285714  Time(s) : 0.11843585968017578\n",
      "Iris KNN :  0.9714285714285714\n",
      "########  K =  6  ###########\n",
      "Iris LMNN :  0.9714285714285714  Time(s) : 0.26992034912109375\n",
      "Iris KNN :  0.9523809523809523\n",
      "########  K =  7  ###########\n",
      "Iris LMNN :  0.9619047619047619  Time(s) : 0.69327712059021\n",
      "Iris KNN :  0.9619047619047619\n",
      "########  K =  8  ###########\n",
      "Iris LMNN :  0.9809523809523809  Time(s) : 0.5362141132354736\n",
      "Iris KNN :  0.9619047619047619\n",
      "########  K =  9  ###########\n",
      "Iris LMNN :  0.9809523809523809  Time(s) : 0.6442620754241943\n",
      "Iris KNN :  0.9523809523809523\n",
      "########  K =  10  ###########\n",
      "Iris LMNN :  0.9619047619047619  Time(s) : 2.4121360778808594\n",
      "Iris KNN :  0.9523809523809523\n"
     ]
    }
   ],
   "source": [
    "K=[1,2,3,4,5,6,7,8,9,10]\n",
    "for k in K:\n",
    "    print(\"########  K = \",k, \" ###########\")\n",
    "    time1 = time.time()\n",
    "    lmnn = LargeMarginNearestNeighbor(n_neighbors=k)\n",
    "    lmnn.fit(X_train,y_train)\n",
    "    time2 = time.time()\n",
    "    print(\"Iris LMNN : \", lmnn.score(X_test,y_test), \" Time(s) :\", (time2-time1))\n",
    "   \n",
    "    neigh = KNeighborsClassifier(n_neighbors=k)\n",
    "    neigh.fit(X_train,y_train)\n",
    "    print(\"Iris KNN : \", neigh.score(X_test,y_test))"
   ]
  },
  {
   "cell_type": "markdown",
   "metadata": {},
   "source": [
    "***\n",
    "## 1.  Experinment 1 - USPS data "
   ]
  },
  {
   "cell_type": "code",
   "execution_count": 3,
   "metadata": {},
   "outputs": [],
   "source": [
    "def get_USPS_training_data():\n",
    "    data = load_svmlight_file('ml_data/usps/usps')\n",
    "    return data[0], data[1]\n",
    "\n",
    "def get_USPS_testing_data():\n",
    "    data = load_svmlight_file('ml_data/usps/usps.t')\n",
    "    return data[0], data[1]\n",
    "\n",
    "X_train, y_train = get_USPS_training_data()\n",
    "X_test, y_test = get_USPS_testing_data()"
   ]
  },
  {
   "cell_type": "code",
   "execution_count": 5,
   "metadata": {},
   "outputs": [
    {
     "name": "stdout",
     "output_type": "stream",
     "text": [
      "########  K =  1  ###########\n",
      "USPS LMNN :  0.16093672147483806\n",
      "USPS KNN :  0.16292974588938713\n",
      "########  K =  2  ###########\n",
      "USPS LMNN :  0.19232685600398602\n",
      "USPS KNN :  0.20478325859491775\n",
      "########  K =  3  ###########\n",
      "USPS LMNN :  0.18834080717488788\n",
      "USPS KNN :  0.18983557548579966\n",
      "########  K =  4  ###########\n",
      "USPS LMNN :  0.2017937219730942\n",
      "USPS KNN :  0.19830592924763324\n",
      "########  K =  5  ###########\n",
      "USPS LMNN :  0.2017937219730942\n",
      "USPS KNN :  0.20577977080219234\n",
      "########  K =  6  ###########\n",
      "USPS LMNN :  0.2002989536621823\n",
      "USPS KNN :  0.21474838066766322\n",
      "########  K =  7  ###########\n",
      "USPS LMNN :  0.2526158445440957\n",
      "USPS KNN :  0.22720478325859494\n",
      "########  K =  8  ###########\n",
      "USPS LMNN :  0.3084205281514698\n",
      "USPS KNN :  0.23368211260587946\n",
      "########  K =  9  ###########\n",
      "USPS LMNN :  0.3153961136023916\n",
      "USPS KNN :  0.24215246636771304\n",
      "########  K =  10  ###########\n",
      "USPS LMNN :  0.3029397110114599\n",
      "USPS KNN :  0.24912805181863473\n"
     ]
    }
   ],
   "source": [
    "K=[1,2,3,4,5,6,7,8,9,10]\n",
    "for k in K:\n",
    "    print(\"########  K = \",k, \" ###########\")\n",
    "    lmnn = LargeMarginNearestNeighbor(n_neighbors=k)\n",
    "    lmnn.fit(X_train[0:200,].todense(),y_train[0:200,])\n",
    "    print(\"USPS LMNN : \", 1 - lmnn.score(X_test.todense(),y_test))\n",
    "\n",
    "    neigh = KNeighborsClassifier(n_neighbors=k)\n",
    "    neigh.fit(X_train[0:200,].todense(),y_train[0:200,])\n",
    "    print(\"USPS KNN : \", 1 - neigh.score(X_test.todense(),y_test))"
   ]
  },
  {
   "cell_type": "markdown",
   "metadata": {},
   "source": [
    "***\n",
    "## 2.  Experinment 2 - MNIST data "
   ]
  },
  {
   "cell_type": "code",
   "execution_count": 6,
   "metadata": {},
   "outputs": [],
   "source": [
    "def get_MNIST_training_data():\n",
    "    data = load_svmlight_file('ml_data/mnist/mnist')\n",
    "    return data[0], data[1]\n",
    "\n",
    "def get_MNIST_testing_data():\n",
    "    data = load_svmlight_file('ml_data/mnist/mnist.t')\n",
    "    return data[0], data[1]\n",
    "\n",
    "X_train, y_train = get_MNIST_training_data()\n",
    "X_test, y_test = get_MNIST_testing_data()"
   ]
  },
  {
   "cell_type": "code",
   "execution_count": 7,
   "metadata": {},
   "outputs": [],
   "source": [
    "mnist = fetch_mldata('MNIST original', data_home='ml_data/mnist')  #Download MMNIST"
   ]
  },
  {
   "cell_type": "code",
   "execution_count": null,
   "metadata": {},
   "outputs": [],
   "source": [
    "X, y = mnist.data, mnist.target\n",
    "X_train, X_test, y_train, y_test = train_test_split(X, y, test_size=0.99, random_state=42)"
   ]
  },
  {
   "cell_type": "code",
   "execution_count": null,
   "metadata": {},
   "outputs": [
    {
     "name": "stdout",
     "output_type": "stream",
     "text": [
      "########  K =  1  ###########\n",
      "MNIST LMNN :  0.7533621933621933\n",
      "MNIST KNN :  0.7533621933621933\n",
      "########  K =  2  ###########\n",
      "MNIST LMNN :  0.7165367965367966\n",
      "MNIST KNN :  0.7158008658008658\n",
      "########  K =  3  ###########\n",
      "MNIST LMNN :  0.7103896103896103\n",
      "MNIST KNN :  0.7093795093795093\n",
      "########  K =  4  ###########\n"
     ]
    }
   ],
   "source": [
    "K=[1,2,3,4,5,6,7,8,9,10]\n",
    "for k in K:\n",
    "    print(\"########  K = \",k, \" ###########\")\n",
    "    lmnn = LargeMarginNearestNeighbor(n_neighbors=k)\n",
    "    lmnn.fit(X_train[0:200,],y_train[0:200])\n",
    "    print(\"MNIST LMNN : \", lmnn.score(X_test,y_test))\n",
    "\n",
    "    neigh = KNeighborsClassifier(n_neighbors=k)\n",
    "    neigh.fit(X_train[0:200,],y_train[0:200,])\n",
    "    print(\"MNIST KNN : \", neigh.score(X_test,y_test))"
   ]
  },
  {
   "cell_type": "markdown",
   "metadata": {},
   "source": [
    "## 3. Experiment - Semi-supervised Iris"
   ]
  },
  {
   "cell_type": "code",
   "execution_count": 17,
   "metadata": {},
   "outputs": [
    {
     "data": {
      "text/plain": [
       "<module 'LMNN_SS' from './class_stuff/LMNN_SS.py'>"
      ]
     },
     "execution_count": 17,
     "metadata": {},
     "output_type": "execute_result"
    }
   ],
   "source": [
    "import sys\n",
    "sys.path.insert(0, './class_stuff')\n",
    "import LMNN_SS\n",
    "import importlib\n",
    "importlib.reload(LMNN_SS)"
   ]
  },
  {
   "cell_type": "code",
   "execution_count": 18,
   "metadata": {},
   "outputs": [],
   "source": [
    "dataset = load_iris()\n",
    "X, y = dataset.data, dataset.target\n",
    "\n",
    "# 25 points in labeled, 50 in unlabeled, 75 in test\n",
    "X_train, X_test, y_train, y_test = train_test_split(X, y, test_size=0.5, random_state=42)\n",
    "X_labeled = np.delete(X_train, range(50), 0)\n",
    "y_labeled = np.delete(y_train, range(50))\n",
    "X_unlabeled = np.delete(X_train, range(50,75), 0)"
   ]
  },
  {
   "cell_type": "code",
   "execution_count": 22,
   "metadata": {},
   "outputs": [
    {
     "name": "stdout",
     "output_type": "stream",
     "text": [
      "########  K =  1  ###########\n",
      "Iris SSC :  1.0  Time(s) : 0.40017271041870117\n",
      "Iris KNN :  0.9733333333333334\n",
      "########  K =  2  ###########\n",
      "Iris SSC :  0.9866666666666667  Time(s) : 0.5954189300537109\n",
      "Iris KNN :  0.96\n",
      "########  K =  3  ###########\n",
      "Iris SSC :  1.0  Time(s) : 0.9898931980133057\n",
      "Iris KNN :  0.9733333333333334\n",
      "########  K =  4  ###########\n",
      "Iris SSC :  1.0  Time(s) : 1.2381441593170166\n",
      "Iris KNN :  0.9333333333333333\n",
      "########  K =  5  ###########\n",
      "Iris SSC :  1.0  Time(s) : 1.0789811611175537\n",
      "Iris KNN :  0.9466666666666667\n",
      "########  K =  6  ###########\n",
      "Iris SSC :  1.0  Time(s) : 1.3192453384399414\n",
      "Iris KNN :  0.9466666666666667\n",
      "########  K =  7  ###########\n",
      "Iris SSC :  1.0  Time(s) : 2.08959698677063\n",
      "Iris KNN :  0.9466666666666667\n",
      "########  K =  8  ###########\n",
      "Iris SSC :  1.0  Time(s) : 1.8432903289794922\n",
      "Iris KNN :  0.9466666666666667\n",
      "########  K =  9  ###########\n",
      "Iris SSC :  0.9333333333333333  Time(s) : 2.7609517574310303\n",
      "Iris KNN :  0.96\n",
      "########  K =  10  ###########\n",
      "Iris SSC :  0.9333333333333333  Time(s) : 4.5680015087127686\n",
      "Iris KNN :  0.9466666666666667\n"
     ]
    }
   ],
   "source": [
    "K=[1,2,3,4,5,6,7,8,9,10]\n",
    "for k in K:\n",
    "    print(\"########  K = \",k, \" ###########\")\n",
    "    time1 = time.time()\n",
    "    ssc = LMNN_SS.SemiSupervisedLargeMarginNearestNeighbor(n_neighbors=k)\n",
    "    ssc.fit(X_labeled, X_unlabeled, y_labeled)\n",
    "    time2 = time.time()\n",
    "    print(\"Iris SSC : \", ssc.score(y_test, ssc.predict(X_test)), \" Time(s) :\", (time2-time1))\n",
    "   \n",
    "    neigh = KNeighborsClassifier(n_neighbors=k)\n",
    "    neigh.fit(X_train,y_train)\n",
    "    print(\"Iris KNN : \", neigh.score(X_test,y_test))"
   ]
  }
 ],
 "metadata": {
  "anaconda-cloud": {},
  "kernelspec": {
   "display_name": "Python 3",
   "language": "python",
   "name": "python3"
  },
  "language_info": {
   "codemirror_mode": {
    "name": "ipython",
    "version": 3
   },
   "file_extension": ".py",
   "mimetype": "text/x-python",
   "name": "python",
   "nbconvert_exporter": "python",
   "pygments_lexer": "ipython3",
   "version": "3.6.4"
  }
 },
 "nbformat": 4,
 "nbformat_minor": 2
}
